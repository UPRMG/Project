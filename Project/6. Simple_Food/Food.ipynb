{
 "cells": [
  {
   "cell_type": "markdown",
   "metadata": {},
   "source": [
    "## Food data Analysis and Model"
   ]
  },
  {
   "cell_type": "code",
   "execution_count": 1,
   "metadata": {},
   "outputs": [],
   "source": [
    "from sklearn.feature_extraction.text import CountVectorizer, TfidfVectorizer\n",
    "from sklearn.model_selection import train_test_split\n",
    "from sklearn.naive_bayes import MultinomialNB\n",
    "from sklearn.pipeline import Pipeline\n",
    "from sklearn.metrics import confusion_matrix, classification_report\n",
    "from sklearn import metrics\n",
    "from sklearn.model_selection import cross_val_score\n",
    "from sklearn.preprocessing import LabelEncoder\n",
    "import warnings\n",
    "warnings.filterwarnings(\"ignore\")\n",
    "from konlpy.tag import Twitter\n",
    "import lightgbm as lgb\n",
    "from sklearn.preprocessing import Imputer\n",
    "from sklearn import preprocessing\n",
    "import pandas as pd \n",
    "import warnings\n",
    "warnings.filterwarnings('ignore')"
   ]
  },
  {
   "cell_type": "code",
   "execution_count": 25,
   "metadata": {},
   "outputs": [],
   "source": [
    "def Food_data_setting():\n",
    "    food = pd.read_csv(\"한국관광공사_전국_음식점_정보_20160906.csv\",sep=None ,encoding=\"cp949\")\n",
    "    food = food.filter(items=['카테고리3', '개요'])\n",
    "    food = food.dropna()\n",
    "    \n",
    "    return food\n",
    "\n",
    "food = Food_data_setting()"
   ]
  },
  {
   "cell_type": "code",
   "execution_count": 26,
   "metadata": {},
   "outputs": [
    {
     "data": {
      "text/html": [
       "<div>\n",
       "<style scoped>\n",
       "    .dataframe tbody tr th:only-of-type {\n",
       "        vertical-align: middle;\n",
       "    }\n",
       "\n",
       "    .dataframe tbody tr th {\n",
       "        vertical-align: top;\n",
       "    }\n",
       "\n",
       "    .dataframe thead th {\n",
       "        text-align: right;\n",
       "    }\n",
       "</style>\n",
       "<table border=\"1\" class=\"dataframe\">\n",
       "  <thead>\n",
       "    <tr style=\"text-align: right;\">\n",
       "      <th></th>\n",
       "      <th>카테고리3</th>\n",
       "      <th>개요</th>\n",
       "    </tr>\n",
       "  </thead>\n",
       "  <tbody>\n",
       "    <tr>\n",
       "      <th>6104</th>\n",
       "      <td>한식</td>\n",
       "      <td>경기도 일산에서 가장 오랜되고 맛있는 집으로 소문난 집이다. 13년동안 한곳에서 한...</td>\n",
       "    </tr>\n",
       "    <tr>\n",
       "      <th>6105</th>\n",
       "      <td>한식</td>\n",
       "      <td>팔팔민물장어는 30년 전통으로 오직 장어만을 전문으로 하는 장어전문 요리집이다. 3...</td>\n",
       "    </tr>\n",
       "    <tr>\n",
       "      <th>6106</th>\n",
       "      <td>서양식</td>\n",
       "      <td>서울스퀘어에 자리잡은 크라제버거.  1998년 11월 압구정동에 국내에서는 처음으로...</td>\n",
       "    </tr>\n",
       "    <tr>\n",
       "      <th>6107</th>\n",
       "      <td>서양식</td>\n",
       "      <td>이태리식 레스토랑으로써 음식에 사용되는 모든 신선한 재료들을 그릴(숯을 이용)에 한...</td>\n",
       "    </tr>\n",
       "    <tr>\n",
       "      <th>6108</th>\n",
       "      <td>한식</td>\n",
       "      <td>경상북도 청송군 청송읍 부곡리에 위치한 봉산식당은 달기약수를 이용한 백숙을 전문으로...</td>\n",
       "    </tr>\n",
       "  </tbody>\n",
       "</table>\n",
       "</div>"
      ],
      "text/plain": [
       "     카테고리3                                                 개요\n",
       "6104    한식  경기도 일산에서 가장 오랜되고 맛있는 집으로 소문난 집이다. 13년동안 한곳에서 한...\n",
       "6105    한식  팔팔민물장어는 30년 전통으로 오직 장어만을 전문으로 하는 장어전문 요리집이다. 3...\n",
       "6106   서양식  서울스퀘어에 자리잡은 크라제버거.  1998년 11월 압구정동에 국내에서는 처음으로...\n",
       "6107   서양식  이태리식 레스토랑으로써 음식에 사용되는 모든 신선한 재료들을 그릴(숯을 이용)에 한...\n",
       "6108    한식  경상북도 청송군 청송읍 부곡리에 위치한 봉산식당은 달기약수를 이용한 백숙을 전문으로..."
      ]
     },
     "execution_count": 26,
     "metadata": {},
     "output_type": "execute_result"
    }
   ],
   "source": [
    "food.tail()"
   ]
  },
  {
   "cell_type": "markdown",
   "metadata": {},
   "source": [
    "---"
   ]
  },
  {
   "cell_type": "markdown",
   "metadata": {},
   "source": [
    "### 분석"
   ]
  },
  {
   "cell_type": "code",
   "execution_count": 6,
   "metadata": {},
   "outputs": [],
   "source": [
    "from konlpy.tag import Twitter\n",
    "from konlpy.tag import *\n",
    "hannanum = Hannanum()\n",
    "kkma = Kkma()\n",
    "twitter = Twitter()\n",
    "\n",
    "def tokenize_pos(doc):\n",
    "    return ['/'.join(t) for t in twitter.pos(doc)]"
   ]
  },
  {
   "cell_type": "code",
   "execution_count": 7,
   "metadata": {},
   "outputs": [],
   "source": [
    "clf = Pipeline([\n",
    "    (\"vect\", TfidfVectorizer(tokenizer=tokenize_pos, ngram_range=(1,2))), \n",
    "    (\"clf\", MultinomialNB(alpha=0.01))\n",
    "])"
   ]
  },
  {
   "cell_type": "code",
   "execution_count": 27,
   "metadata": {},
   "outputs": [],
   "source": [
    "# Labeling\n",
    "# le = preprocessing.LabelEncoder()\n",
    "# y_label = le.fit_transform(food['카테고리3'])"
   ]
  },
  {
   "cell_type": "code",
   "execution_count": 10,
   "metadata": {},
   "outputs": [
    {
     "data": {
      "text/latex": [
       "$$\\left ( 3644, \\quad 2430, \\quad 3644, \\quad 2430\\right )$$"
      ],
      "text/plain": [
       "(3644, 2430, 3644, 2430)"
      ]
     },
     "execution_count": 10,
     "metadata": {},
     "output_type": "execute_result"
    }
   ],
   "source": [
    "X_train, X_test, y_train, y_test = train_test_split(food['개요'], food['카테고리3'], \\\n",
    "                                                    test_size=0.4, random_state=0)\n",
    "\n",
    "len(X_train),len(X_test),len(y_train),len(y_test)"
   ]
  },
  {
   "cell_type": "code",
   "execution_count": 11,
   "metadata": {
    "scrolled": false
   },
   "outputs": [
    {
     "name": "stdout",
     "output_type": "stream",
     "text": [
      "Train \n",
      "\n",
      "Train confusion_matrix \n",
      "\n",
      "[[ 191    1    0    0    0    0    0    0    0]\n",
      " [   0   65    0    0    0    0    0    0    0]\n",
      " [   0    0   14    0    0    0    0    0    0]\n",
      " [   0    0    0  105    0    0    0    0    0]\n",
      " [   0    0    0    0  149    0    0    0    0]\n",
      " [   0    0    0    0    0   16    0    0    0]\n",
      " [   0    0    0    0    0    0  163    0    0]\n",
      " [   0    0    0    0    0    0    0   23    0]\n",
      " [   0    0    0    3    0    0    0    0 2914]] \n",
      "\n",
      "\n",
      "Train classification_report \n",
      "\n",
      "             precision    recall  f1-score   support\n",
      "\n",
      "        서양식       1.00      0.99      1.00       192\n",
      "       아시아식       0.98      1.00      0.99        65\n",
      "      이색음식점       1.00      1.00      1.00        14\n",
      "         일식       0.97      1.00      0.99       105\n",
      "         중식       1.00      1.00      1.00       149\n",
      "      채식전문점       1.00      1.00      1.00        16\n",
      "    카페/전통찻집       1.00      1.00      1.00       163\n",
      "    패밀리레스토랑       1.00      1.00      1.00        23\n",
      "         한식       1.00      1.00      1.00      2917\n",
      "\n",
      "avg / total       1.00      1.00      1.00      3644\n",
      " \n",
      "\n",
      "\n",
      "Train accuracy_score \n",
      "\n",
      "1.0 \n",
      "\n",
      "\n",
      "===================================================== \n",
      "\n",
      "\n",
      "Test \n",
      "\n",
      "Test confusion_matrix \n",
      "\n",
      "[[  72    0    0    0    0    0    2    0   48]\n",
      " [   3   22    0    0    1    0    0    0   10]\n",
      " [   2    0    2    0    0    0    1    0    7]\n",
      " [   1    0    0   27    0    0    0    1   47]\n",
      " [   4    0    0    0   39    0    0    0   50]\n",
      " [   1    0    0    0    0    0    0    0    8]\n",
      " [  11    0    0    0    0    0   70    0   30]\n",
      " [   4    0    0    0    0    0    0    8    4]\n",
      " [   5    0    0    3    1    0    2    0 1944]] \n",
      "\n",
      "\n",
      "Test classification_report \n",
      "\n",
      "             precision    recall  f1-score   support\n",
      "\n",
      "        서양식       0.70      0.59      0.64       122\n",
      "       아시아식       1.00      0.61      0.76        36\n",
      "      이색음식점       1.00      0.17      0.29        12\n",
      "         일식       0.90      0.36      0.51        76\n",
      "         중식       0.95      0.42      0.58        93\n",
      "      채식전문점       0.00      0.00      0.00         9\n",
      "    카페/전통찻집       0.93      0.63      0.75       111\n",
      "    패밀리레스토랑       0.89      0.50      0.64        16\n",
      "         한식       0.91      0.99      0.95      1955\n",
      "\n",
      "avg / total       0.90      0.90      0.88      2430\n",
      " \n",
      "\n",
      "\n",
      "Test accuracy_score \n",
      "\n",
      "0.9 \n",
      "\n",
      "\n"
     ]
    },
    {
     "data": {
      "image/png": "[encoded data removed]",
      "text/plain": [
       "<Figure size 432x288 with 1 Axes>"
      ]
     },
     "metadata": {},
     "output_type": "display_data"
    }
   ],
   "source": [
    "# def Food():\n",
    "\n",
    "model  = clf.fit(X_train, y_train)\n",
    "\n",
    "y_pred  = model.predict(X_train)\n",
    "\n",
    "print(\"Train\", \"\\n\")\n",
    "print(\"Train confusion_matrix\", \"\\n\")\n",
    "print(confusion_matrix(y_train, y_pred), \"\\n\\n\")\n",
    "print(\"Train classification_report\", \"\\n\")\n",
    "print(classification_report(y_train, y_pred), \"\\n\\n\")\n",
    "print(\"Train accuracy_score\", \"\\n\")\n",
    "print(round(accuracy_score(y_train, y_pred), 2), \"\\n\\n\")\n",
    "\n",
    "print(\"=====================================================\" , \"\\n\\n\")\n",
    "\n",
    "y_pred_t = model.predict(X_test)\n",
    "\n",
    "print(\"Test\", \"\\n\")\n",
    "print(\"Test confusion_matrix\", \"\\n\")\n",
    "print(confusion_matrix(y_test, y_pred_t), \"\\n\\n\")\n",
    "print(\"Test classification_report\", \"\\n\")\n",
    "print(classification_report(y_test, y_pred_t), \"\\n\\n\")\n",
    "print(\"Test accuracy_score\", \"\\n\")\n",
    "print(round(accuracy_score(y_test, y_pred_t), 2), \"\\n\\n\")\n",
    "\n",
    "x=\"Train\",\"Test\"\n",
    "y=accuracy_score(y_train, y_pred), accuracy_score(y_test, y_pred_t)\n",
    "plt.bar(x,y)\n",
    "plt.show()"
   ]
  },
  {
   "cell_type": "markdown",
   "metadata": {},
   "source": [
    "### 문구 Test"
   ]
  },
  {
   "cell_type": "code",
   "execution_count": 20,
   "metadata": {},
   "outputs": [],
   "source": [
    "X_=pd.Series(\"피자\")"
   ]
  },
  {
   "cell_type": "code",
   "execution_count": 21,
   "metadata": {},
   "outputs": [],
   "source": [
    "y_pred_t = model.predict_proba(X_)\n",
    "y_pred = model.predict(X_)"
   ]
  },
  {
   "cell_type": "code",
   "execution_count": 22,
   "metadata": {},
   "outputs": [
    {
     "data": {
      "text/plain": [
       "array([[8.28887169e-01, 1.89651581e-02, 3.15902769e-04, 1.45326892e-03,\n",
       "        1.79545080e-03, 3.49206028e-04, 4.67012381e-02, 7.20823340e-03,\n",
       "        9.43243727e-02]])"
      ]
     },
     "execution_count": 22,
     "metadata": {},
     "output_type": "execute_result"
    }
   ],
   "source": [
    "y_pred_t"
   ]
  },
  {
   "cell_type": "code",
   "execution_count": 23,
   "metadata": {
    "scrolled": true
   },
   "outputs": [
    {
     "data": {
      "text/plain": [
       "array(['서양식'], dtype='<U7')"
      ]
     },
     "execution_count": 23,
     "metadata": {},
     "output_type": "execute_result"
    }
   ],
   "source": [
    "y_pred"
   ]
  },
  {
   "cell_type": "markdown",
   "metadata": {},
   "source": [
    "---"
   ]
  },
  {
   "cell_type": "code",
   "execution_count": null,
   "metadata": {},
   "outputs": [],
   "source": []
  }
 ],
 "metadata": {
  "kernelspec": {
   "display_name": "Python 3",
   "language": "python",
   "name": "python3"
  },
  "language_info": {
   "codemirror_mode": {
    "name": "ipython",
    "version": 3
   },
   "file_extension": ".py",
   "mimetype": "text/x-python",
   "name": "python",
   "nbconvert_exporter": "python",
   "pygments_lexer": "ipython3",
   "version": "3.6.4"
  }
 },
 "nbformat": 4,
 "nbformat_minor": 2
}
