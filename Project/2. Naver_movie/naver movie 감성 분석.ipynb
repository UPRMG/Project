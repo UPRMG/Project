{
 "cells": [
  {
   "cell_type": "markdown",
   "metadata": {},
   "source": [
    "## Naver Movie 평점과 140자평 자료를 활용한 감성 분석"
   ]
  },
  {
   "cell_type": "markdown",
   "metadata": {},
   "source": [
    "https://movie.naver.com/\n",
    "\n",
    "\n",
    "Web Crawling"
   ]
  },
  {
   "cell_type": "code",
   "execution_count": 1,
   "metadata": {},
   "outputs": [],
   "source": [
    "from sklearn.feature_extraction.text import CountVectorizer, TfidfVectorizer\n",
    "from sklearn.model_selection import train_test_split\n",
    "from sklearn.naive_bayes import MultinomialNB\n",
    "from sklearn.pipeline import Pipeline\n",
    "from sklearn.metrics import confusion_matrix, classification_report\n",
    "from sklearn import metrics\n",
    "from sklearn.model_selection import cross_val_score\n",
    "from sklearn.preprocessing import LabelEncoder\n",
    "import warnings\n",
    "warnings.filterwarnings(\"ignore\")\n",
    "from konlpy.tag import Twitter\n",
    "import lightgbm as lgb\n",
    "import requests\n",
    "import pandas as pd \n",
    "from bs4 import BeautifulSoup\n",
    "import glob"
   ]
  },
  {
   "cell_type": "code",
   "execution_count": 10,
   "metadata": {},
   "outputs": [
    {
     "data": {
      "text/plain": [
       "'10634913'"
      ]
     },
     "execution_count": 10,
     "metadata": {},
     "output_type": "execute_result"
    }
   ],
   "source": [
    "# 전체 데이터 갯수를 가져오는 함수\n",
    "def get_total(num):\n",
    "    url = \"https://movie.naver.com/movie/point/af/list.nhn?&page=\"+str(num)\n",
    "    response = requests.get(url)\n",
    "    dom = BeautifulSoup(response.content, \"html.parser\")\n",
    "    return dom.select_one(\".h5_right_txt strong\").text\n",
    "\n",
    "# 테스트 코드\n",
    "get_total(1)"
   ]
  },
  {
   "cell_type": "markdown",
   "metadata": {},
   "source": [
    "---"
   ]
  },
  {
   "cell_type": "code",
   "execution_count": null,
   "metadata": {},
   "outputs": [],
   "source": [
    "# 아이템 리스트를 가져오는 함수\n",
    "def get_items(num):\n",
    "    url = \"https://movie.naver.com/movie/bi/mi/point.nhn?code=\"+str(num)\n",
    "    response = requests.get(url)\n",
    "    dom = BeautifulSoup(response.content, \"html.parser\")\n",
    "    return dom.select(\"#orderCheckbox \")\n",
    "\n",
    "# 테스트 코드\n",
    "items = get_items(173653)    \n",
    "len(items)\n",
    "\n",
    "# for i in range(10010, 20000):\n",
    "#     get_items(i)"
   ]
  },
  {
   "cell_type": "code",
   "execution_count": null,
   "metadata": {
    "scrolled": true
   },
   "outputs": [],
   "source": [
    "items"
   ]
  },
  {
   "cell_type": "markdown",
   "metadata": {},
   "source": [
    "___"
   ]
  },
  {
   "cell_type": "code",
   "execution_count": 11,
   "metadata": {},
   "outputs": [
    {
     "data": {
      "text/latex": [
       "$$10$$"
      ],
      "text/plain": [
       "10"
      ]
     },
     "execution_count": 11,
     "metadata": {},
     "output_type": "execute_result"
    }
   ],
   "source": [
    "# 아이템 리스트를 가져오는 함수\n",
    "def get_items(num):\n",
    "    url = \"https://movie.naver.com/movie/point/af/list.nhn?&page=\"+str(num)\n",
    "    response = requests.get(url)\n",
    "    dom = BeautifulSoup(response.content, \"html.parser\")\n",
    "    return dom.select(\".list_netizen tbody tr\")\n",
    "\n",
    "# 테스트 코드\n",
    "items = get_items(1)    \n",
    "len(items)"
   ]
  },
  {
   "cell_type": "code",
   "execution_count": 12,
   "metadata": {},
   "outputs": [
    {
     "data": {
      "text/latex": [
       "$$10$$"
      ],
      "text/plain": [
       "10"
      ]
     },
     "execution_count": 12,
     "metadata": {},
     "output_type": "execute_result"
    }
   ],
   "source": [
    "# 아이템을 데이터 리스트로 만드는 함수\n",
    "def make_datas(items):\n",
    "\n",
    "    datas = []\n",
    "    \n",
    "    for item in items:\n",
    "        \n",
    "        try:\n",
    "            point = item.select_one(\".point\").text             # 평점\n",
    "            name = item.select_one(\".title .movie\").text       # 영화 제목\n",
    "            con = item.select_one(\".title\").text             # 평\n",
    "            number = item.select_one(\".num\").text        # 시간\n",
    "            datas.append([point, name, con, number]) \n",
    "\n",
    "        except Exception as e:\n",
    "            print(e)\n",
    "            pass\n",
    "        \n",
    "\n",
    "    return datas\n",
    "\n",
    "# 테스트 코드\n",
    "datas = make_datas(items)\n",
    "len(datas)"
   ]
  },
  {
   "cell_type": "code",
   "execution_count": null,
   "metadata": {},
   "outputs": [],
   "source": [
    "# 키워드를 입력받아 전체 데이터를 가져오는 함수\n",
    "def all_datas():\n",
    "    total = 50000\n",
    "    pages = int(total) // 10 + 1\n",
    "    datas = []\n",
    "    for page in range(1, pages + 1):\n",
    "        items = get_items(page)\n",
    "        datas += make_datas(items)\n",
    "    return datas\n",
    "\n",
    "# 테스트 코드\n",
    "datas = all_datas()\n",
    "len(datas)"
   ]
  },
  {
   "cell_type": "code",
   "execution_count": null,
   "metadata": {
    "scrolled": true
   },
   "outputs": [],
   "source": [
    "# 데이터 프레임을 만드는 코드\n",
    "datas = all_datas()\n",
    "\n",
    "columns = ['Point', 'Name', 'Con', 'Number']\n",
    "df = pd.DataFrame(datas, columns=columns)\n",
    "df"
   ]
  },
  {
   "cell_type": "code",
   "execution_count": null,
   "metadata": {},
   "outputs": [],
   "source": [
    "df.to_csv(\"navermoviedf.csv\", index=False)"
   ]
  },
  {
   "cell_type": "markdown",
   "metadata": {},
   "source": [
    "---"
   ]
  },
  {
   "cell_type": "markdown",
   "metadata": {},
   "source": [
    "### 1. 데이터 전처리 \n",
    "\n",
    "(2018년 4월 20일 23:30분경 크롤링 실시한 1만개 자료 (최대1만개까지 웹크롤링 가능))"
   ]
  },
  {
   "cell_type": "code",
   "execution_count": 3,
   "metadata": {},
   "outputs": [],
   "source": [
    "def pre_data():\n",
    "    \n",
    "    df = pd.read_csv(\"navermoviedf.csv\")\n",
    "    \n",
    "    def remove(word):\n",
    "        word = re.sub(\"\\t신고\\n\", \"\", word)\n",
    "        word = re.sub(\"\\n\", \"\", word)\n",
    "        word = re.sub(\"\\r\", \"\", word)\n",
    "        word = re.sub(\"\\t\", \"\", word)\n",
    "        return word\n",
    "    \n",
    "    df['Con'] = df['Con'].apply(remove)\n",
    "    \n",
    "    a = []\n",
    "    for i in range(len(df)):\n",
    "        a.append(df.Name[i])\n",
    "        \n",
    "    def remove2(word):\n",
    "        for j in range(len(df)):\n",
    "            word = re.sub(a[j], \"\", word)\n",
    "        return word\n",
    "    \n",
    "#     g=[]\n",
    "#     g=[num for num in range(1,10000)]\n",
    "#     df['Con'] = df['Con'].apply(lambda x : re.sub(a[g], \"\", x))\n",
    "\n",
    "    df['Con'] = df['Con'].apply(remove2)\n",
    "    \n",
    "    df.to_csv(\"navermoviefinaldf.csv\", index=False)\n",
    "\n",
    "    df\n",
    "    \n",
    "    return df\n",
    "\n",
    "df = pre_data()"
   ]
  },
  {
   "cell_type": "code",
   "execution_count": 4,
   "metadata": {
    "scrolled": true
   },
   "outputs": [
    {
     "data": {
      "text/html": [
       "<div>\n",
       "<style scoped>\n",
       "    .dataframe tbody tr th:only-of-type {\n",
       "        vertical-align: middle;\n",
       "    }\n",
       "\n",
       "    .dataframe tbody tr th {\n",
       "        vertical-align: top;\n",
       "    }\n",
       "\n",
       "    .dataframe thead th {\n",
       "        text-align: right;\n",
       "    }\n",
       "</style>\n",
       "<table border=\"1\" class=\"dataframe\">\n",
       "  <thead>\n",
       "    <tr style=\"text-align: right;\">\n",
       "      <th></th>\n",
       "      <th>Point</th>\n",
       "      <th>Name</th>\n",
       "      <th>Con</th>\n",
       "      <th>Number</th>\n",
       "    </tr>\n",
       "  </thead>\n",
       "  <tbody>\n",
       "    <tr>\n",
       "      <th>9995</th>\n",
       "      <td>2</td>\n",
       "      <td>월요일이 사라졌다</td>\n",
       "      <td>나쁜놈들  혼자보기  아까워서 혜자별점  줬냐 ㅋㅋㅋ리  영화 공상 과학영화다  참...</td>\n",
       "      <td>14011799</td>\n",
       "    </tr>\n",
       "    <tr>\n",
       "      <th>9996</th>\n",
       "      <td>6</td>\n",
       "      <td>지금 만나러 갑니다</td>\n",
       "      <td>유머하고 감동받는 영화입니다</td>\n",
       "      <td>14011798</td>\n",
       "    </tr>\n",
       "    <tr>\n",
       "      <th>9997</th>\n",
       "      <td>8</td>\n",
       "      <td>그렘린</td>\n",
       "      <td>정말 재미있다. 그래서 아이들한테 보여주고 싶다.</td>\n",
       "      <td>14011796</td>\n",
       "    </tr>\n",
       "    <tr>\n",
       "      <th>9998</th>\n",
       "      <td>10</td>\n",
       "      <td>그날, 바다</td>\n",
       "      <td>영화보는내내 충격이였다 울고오진않을까..걱정되어 준비해간 휴지는 하나도 쓰지를 않았...</td>\n",
       "      <td>14011794</td>\n",
       "    </tr>\n",
       "    <tr>\n",
       "      <th>9999</th>\n",
       "      <td>4</td>\n",
       "      <td>램페이지</td>\n",
       "      <td>걍 그럼 솔직히 지루했음</td>\n",
       "      <td>14011792</td>\n",
       "    </tr>\n",
       "  </tbody>\n",
       "</table>\n",
       "</div>"
      ],
      "text/plain": [
       "      Point        Name                                                Con  \\\n",
       "9995      2   월요일이 사라졌다  나쁜놈들  혼자보기  아까워서 혜자별점  줬냐 ㅋㅋㅋ리  영화 공상 과학영화다  참...   \n",
       "9996      6  지금 만나러 갑니다                                   유머하고 감동받는 영화입니다    \n",
       "9997      8         그렘린                       정말 재미있다. 그래서 아이들한테 보여주고 싶다.    \n",
       "9998     10      그날, 바다  영화보는내내 충격이였다 울고오진않을까..걱정되어 준비해간 휴지는 하나도 쓰지를 않았...   \n",
       "9999      4        램페이지                                     걍 그럼 솔직히 지루했음    \n",
       "\n",
       "        Number  \n",
       "9995  14011799  \n",
       "9996  14011798  \n",
       "9997  14011796  \n",
       "9998  14011794  \n",
       "9999  14011792  "
      ]
     },
     "execution_count": 4,
     "metadata": {},
     "output_type": "execute_result"
    }
   ],
   "source": [
    "df.tail()"
   ]
  },
  {
   "cell_type": "markdown",
   "metadata": {},
   "source": [
    "---"
   ]
  },
  {
   "cell_type": "markdown",
   "metadata": {},
   "source": [
    "### 2-1. 분석\n",
    "\n",
    "(MultinomialNB 분석 / 총 140자평으로 10가지 평점 분석)"
   ]
  },
  {
   "cell_type": "code",
   "execution_count": 4,
   "metadata": {},
   "outputs": [],
   "source": [
    "fdf = pd.read_csv(\"navermoviefinaldf.csv\")"
   ]
  },
  {
   "cell_type": "code",
   "execution_count": 5,
   "metadata": {},
   "outputs": [
    {
     "data": {
      "text/html": [
       "<div>\n",
       "<style scoped>\n",
       "    .dataframe tbody tr th:only-of-type {\n",
       "        vertical-align: middle;\n",
       "    }\n",
       "\n",
       "    .dataframe tbody tr th {\n",
       "        vertical-align: top;\n",
       "    }\n",
       "\n",
       "    .dataframe thead th {\n",
       "        text-align: right;\n",
       "    }\n",
       "</style>\n",
       "<table border=\"1\" class=\"dataframe\">\n",
       "  <thead>\n",
       "    <tr style=\"text-align: right;\">\n",
       "      <th></th>\n",
       "      <th>Point</th>\n",
       "      <th>Name</th>\n",
       "      <th>Con</th>\n",
       "      <th>Number</th>\n",
       "    </tr>\n",
       "  </thead>\n",
       "  <tbody>\n",
       "    <tr>\n",
       "      <th>9995</th>\n",
       "      <td>2</td>\n",
       "      <td>월요일이 사라졌다</td>\n",
       "      <td>나쁜놈들  혼자보기  아까워서 혜자별점  줬냐 ㅋㅋㅋ리  영화 공상 과학영화다  참...</td>\n",
       "      <td>14011799</td>\n",
       "    </tr>\n",
       "    <tr>\n",
       "      <th>9996</th>\n",
       "      <td>6</td>\n",
       "      <td>지금 만나러 갑니다</td>\n",
       "      <td>유머하고 감동받는 영화입니다</td>\n",
       "      <td>14011798</td>\n",
       "    </tr>\n",
       "    <tr>\n",
       "      <th>9997</th>\n",
       "      <td>8</td>\n",
       "      <td>그렘린</td>\n",
       "      <td>정말 재미있다. 그래서 아이들한테 보여주고 싶다.</td>\n",
       "      <td>14011796</td>\n",
       "    </tr>\n",
       "    <tr>\n",
       "      <th>9998</th>\n",
       "      <td>10</td>\n",
       "      <td>그날, 바다</td>\n",
       "      <td>영화보는내내 충격이였다 울고오진않을까..걱정되어 준비해간 휴지는 하나도 쓰지를 않았...</td>\n",
       "      <td>14011794</td>\n",
       "    </tr>\n",
       "    <tr>\n",
       "      <th>9999</th>\n",
       "      <td>4</td>\n",
       "      <td>램페이지</td>\n",
       "      <td>걍 그럼 솔직히 지루했음</td>\n",
       "      <td>14011792</td>\n",
       "    </tr>\n",
       "  </tbody>\n",
       "</table>\n",
       "</div>"
      ],
      "text/plain": [
       "      Point        Name                                                Con  \\\n",
       "9995      2   월요일이 사라졌다  나쁜놈들  혼자보기  아까워서 혜자별점  줬냐 ㅋㅋㅋ리  영화 공상 과학영화다  참...   \n",
       "9996      6  지금 만나러 갑니다                                   유머하고 감동받는 영화입니다    \n",
       "9997      8         그렘린                       정말 재미있다. 그래서 아이들한테 보여주고 싶다.    \n",
       "9998     10      그날, 바다  영화보는내내 충격이였다 울고오진않을까..걱정되어 준비해간 휴지는 하나도 쓰지를 않았...   \n",
       "9999      4        램페이지                                     걍 그럼 솔직히 지루했음    \n",
       "\n",
       "        Number  \n",
       "9995  14011799  \n",
       "9996  14011798  \n",
       "9997  14011796  \n",
       "9998  14011794  \n",
       "9999  14011792  "
      ]
     },
     "execution_count": 5,
     "metadata": {},
     "output_type": "execute_result"
    }
   ],
   "source": [
    "fdf.tail()"
   ]
  },
  {
   "cell_type": "code",
   "execution_count": 7,
   "metadata": {},
   "outputs": [],
   "source": [
    "from konlpy.tag import Twitter\n",
    "from konlpy.tag import *\n",
    "hannanum = Hannanum()\n",
    "kkma = Kkma()\n",
    "twitter = Twitter()\n",
    "\n",
    "def tokenize_pos(doc):\n",
    "    return ['/'.join(t) for t in twitter.pos(doc)]"
   ]
  },
  {
   "cell_type": "code",
   "execution_count": 13,
   "metadata": {},
   "outputs": [],
   "source": [
    "clf = Pipeline([\n",
    "    (\"vect\", TfidfVectorizer(tokenizer=tokenize_pos, ngram_range=(1,2))), \n",
    "    (\"clf\", MultinomialNB(alpha=0.01))\n",
    "])"
   ]
  },
  {
   "cell_type": "code",
   "execution_count": 14,
   "metadata": {},
   "outputs": [
    {
     "data": {
      "text/latex": [
       "$$\\left ( 6000, \\quad 4000, \\quad 6000, \\quad 4000\\right )$$"
      ],
      "text/plain": [
       "(6000, 4000, 6000, 4000)"
      ]
     },
     "execution_count": 14,
     "metadata": {},
     "output_type": "execute_result"
    }
   ],
   "source": [
    "X_train_F, X_test_F, y_train_F, y_test_F = train_test_split(fdf['Con'], fdf['Point'], \\\n",
    "                                                    test_size=0.4, random_state=0)\n",
    "\n",
    "len(X_train_F),len(X_test_F),len(y_train_F),len(y_test_F)"
   ]
  },
  {
   "cell_type": "code",
   "execution_count": 20,
   "metadata": {},
   "outputs": [],
   "source": [
    "def naver_movie():\n",
    "    model_F = clf.fit(X_train_F, y_train_F)\n",
    "    \n",
    "    y_pred_F = model_F.predict(X_train_F)\n",
    "    \n",
    "    print(\"Train\", \"\\n\")\n",
    "    print(\"Train confusion_matrix\", \"\\n\")\n",
    "    print(confusion_matrix(y_train_F, y_pred_F), \"\\n\\n\")\n",
    "    print(\"Train classification_report\", \"\\n\")\n",
    "    print(classification_report(y_train_F, y_pred_F), \"\\n\\n\")\n",
    "    print(\"Train accuracy_score\", \"\\n\")\n",
    "    print(round(accuracy_score(y_train_F, y_pred_F), 2), \"\\n\\n\")\n",
    "    \n",
    "    print(\"=====================================================\" , \"\\n\\n\")\n",
    "    \n",
    "    y_pred_F_T = model_F.predict(X_test_F)\n",
    "    \n",
    "    print(\"Test\", \"\\n\")\n",
    "    print(\"Test confusion_matrix\", \"\\n\")\n",
    "    print(confusion_matrix(y_test_F, y_pred_F_T), \"\\n\\n\")\n",
    "    print(\"Test classification_report\", \"\\n\")\n",
    "    print(classification_report(y_test_F, y_pred_F_T), \"\\n\\n\")\n",
    "    print(\"Test accuracy_score\", \"\\n\")\n",
    "    print(round(accuracy_score(y_test_F, y_pred_F_T), 2), \"\\n\\n\")\n",
    "    \n",
    "    x=\"Train\",\"Test\"\n",
    "    y=accuracy_score(y_train_F, y_pred_F), accuracy_score(y_test_F, y_pred_F_T)\n",
    "    plt.bar(x,y)\n",
    "    plt.show()"
   ]
  },
  {
   "cell_type": "code",
   "execution_count": 21,
   "metadata": {
    "scrolled": false
   },
   "outputs": [
    {
     "name": "stdout",
     "output_type": "stream",
     "text": [
      "Train \n",
      "\n",
      "Train confusion_matrix \n",
      "\n",
      "[[ 591    1    0    0    0    0    0    0    0    1]\n",
      " [   0  191    0    0    0    0    0    1    0    0]\n",
      " [   0    0   56    0    0    0    0    0    0    0]\n",
      " [   0    0    0  128    0    0    0    0    0    0]\n",
      " [   0    0    0    0  102    0    0    0    0    0]\n",
      " [   0    0    0    0    0  323    0    1    0    0]\n",
      " [   0    0    0    0    0    0  257    1    0    0]\n",
      " [   0    0    0    0    0    0    0  610    0    5]\n",
      " [   0    0    0    0    0    0    0    1  370    2]\n",
      " [   0    0    0    0    0    1    0    4    0 3354]] \n",
      "\n",
      "\n",
      "Train classification_report \n",
      "\n",
      "             precision    recall  f1-score   support\n",
      "\n",
      "          1       1.00      1.00      1.00       593\n",
      "          2       0.99      0.99      0.99       192\n",
      "          3       1.00      1.00      1.00        56\n",
      "          4       1.00      1.00      1.00       128\n",
      "          5       1.00      1.00      1.00       102\n",
      "          6       1.00      1.00      1.00       324\n",
      "          7       1.00      1.00      1.00       258\n",
      "          8       0.99      0.99      0.99       615\n",
      "          9       1.00      0.99      1.00       373\n",
      "         10       1.00      1.00      1.00      3359\n",
      "\n",
      "avg / total       1.00      1.00      1.00      6000\n",
      " \n",
      "\n",
      "\n",
      "Train accuracy_score \n",
      "\n",
      "1.0 \n",
      "\n",
      "\n",
      "===================================================== \n",
      "\n",
      "\n",
      "Test \n",
      "\n",
      "Test confusion_matrix \n",
      "\n",
      "[[ 148   11    0    4    0    9    3   10    3  150]\n",
      " [  58    7    1    0    1    5    2   13    0   51]\n",
      " [  18    0    1    0    0    3    0    2    0   18]\n",
      " [  22    4    1    4    0   10    5    9    0   42]\n",
      " [  12    1    0    0    2    7    3    9    2   40]\n",
      " [  20    1    1    1    0   18    8   31    6  123]\n",
      " [  10    3    0    1    0   11    8   32    6  121]\n",
      " [  18    3    0    2    0   11   12   65   11  274]\n",
      " [   6    0    0    0    0    4    3   27   13  200]\n",
      " [  44    2    1    2    0   13   10   90   27 2070]] \n",
      "\n",
      "\n",
      "Test classification_report \n",
      "\n",
      "             precision    recall  f1-score   support\n",
      "\n",
      "          1       0.42      0.44      0.43       338\n",
      "          2       0.22      0.05      0.08       138\n",
      "          3       0.20      0.02      0.04        42\n",
      "          4       0.29      0.04      0.07        97\n",
      "          5       0.67      0.03      0.05        76\n",
      "          6       0.20      0.09      0.12       209\n",
      "          7       0.15      0.04      0.07       192\n",
      "          8       0.23      0.16      0.19       396\n",
      "          9       0.19      0.05      0.08       253\n",
      "         10       0.67      0.92      0.77      2259\n",
      "\n",
      "avg / total       0.49      0.58      0.51      4000\n",
      " \n",
      "\n",
      "\n",
      "Test accuracy_score \n",
      "\n",
      "0.58 \n",
      "\n",
      "\n"
     ]
    },
    {
     "data": {
      "image/png": "[encoded data removed]",
      "text/plain": [
       "<Figure size 432x288 with 1 Axes>"
      ]
     },
     "metadata": {},
     "output_type": "display_data"
    }
   ],
   "source": [
    "naver_movie()"
   ]
  },
  {
   "cell_type": "markdown",
   "metadata": {},
   "source": [
    "---"
   ]
  },
  {
   "cell_type": "markdown",
   "metadata": {},
   "source": [
    "### 2-2. CountVectorizer 후 LGBMClassifier 분석 진행"
   ]
  },
  {
   "cell_type": "code",
   "execution_count": 6,
   "metadata": {},
   "outputs": [],
   "source": [
    "def CountVectorizer_naver_con():\n",
    "    vect = CountVectorizer()\n",
    "    vect.fit(fdf['Con'])\n",
    "    #vect.vocabulary_\n",
    "    \n",
    "    trans = vect.transform(fdf['Con']).toarray()\n",
    "    \n",
    "   #trans = pd.DataFrame(trans, columns=vect.get_feature_names()).to_string()\n",
    "    trans = pd.DataFrame(trans)\n",
    "    \n",
    "    trans['y'] = fdf['Point']\n",
    "    \n",
    "    return trans\n",
    "\n",
    "trans = CountVectorizer_naver_con()"
   ]
  },
  {
   "cell_type": "code",
   "execution_count": 7,
   "metadata": {},
   "outputs": [
    {
     "data": {
      "text/html": [
       "<div>\n",
       "<style scoped>\n",
       "    .dataframe tbody tr th:only-of-type {\n",
       "        vertical-align: middle;\n",
       "    }\n",
       "\n",
       "    .dataframe tbody tr th {\n",
       "        vertical-align: top;\n",
       "    }\n",
       "\n",
       "    .dataframe thead th {\n",
       "        text-align: right;\n",
       "    }\n",
       "</style>\n",
       "<table border=\"1\" class=\"dataframe\">\n",
       "  <thead>\n",
       "    <tr style=\"text-align: right;\">\n",
       "      <th></th>\n",
       "      <th>0</th>\n",
       "      <th>1</th>\n",
       "      <th>2</th>\n",
       "      <th>3</th>\n",
       "      <th>4</th>\n",
       "      <th>5</th>\n",
       "      <th>6</th>\n",
       "      <th>7</th>\n",
       "      <th>8</th>\n",
       "      <th>9</th>\n",
       "      <th>...</th>\n",
       "      <th>38781</th>\n",
       "      <th>38782</th>\n",
       "      <th>38783</th>\n",
       "      <th>38784</th>\n",
       "      <th>38785</th>\n",
       "      <th>38786</th>\n",
       "      <th>38787</th>\n",
       "      <th>38788</th>\n",
       "      <th>38789</th>\n",
       "      <th>y</th>\n",
       "    </tr>\n",
       "  </thead>\n",
       "  <tbody>\n",
       "    <tr>\n",
       "      <th>9995</th>\n",
       "      <td>0</td>\n",
       "      <td>0</td>\n",
       "      <td>0</td>\n",
       "      <td>0</td>\n",
       "      <td>0</td>\n",
       "      <td>0</td>\n",
       "      <td>0</td>\n",
       "      <td>0</td>\n",
       "      <td>0</td>\n",
       "      <td>0</td>\n",
       "      <td>...</td>\n",
       "      <td>0</td>\n",
       "      <td>0</td>\n",
       "      <td>0</td>\n",
       "      <td>0</td>\n",
       "      <td>0</td>\n",
       "      <td>0</td>\n",
       "      <td>0</td>\n",
       "      <td>0</td>\n",
       "      <td>0</td>\n",
       "      <td>2</td>\n",
       "    </tr>\n",
       "    <tr>\n",
       "      <th>9996</th>\n",
       "      <td>0</td>\n",
       "      <td>0</td>\n",
       "      <td>0</td>\n",
       "      <td>0</td>\n",
       "      <td>0</td>\n",
       "      <td>0</td>\n",
       "      <td>0</td>\n",
       "      <td>0</td>\n",
       "      <td>0</td>\n",
       "      <td>0</td>\n",
       "      <td>...</td>\n",
       "      <td>0</td>\n",
       "      <td>0</td>\n",
       "      <td>0</td>\n",
       "      <td>0</td>\n",
       "      <td>0</td>\n",
       "      <td>0</td>\n",
       "      <td>0</td>\n",
       "      <td>0</td>\n",
       "      <td>0</td>\n",
       "      <td>6</td>\n",
       "    </tr>\n",
       "    <tr>\n",
       "      <th>9997</th>\n",
       "      <td>0</td>\n",
       "      <td>0</td>\n",
       "      <td>0</td>\n",
       "      <td>0</td>\n",
       "      <td>0</td>\n",
       "      <td>0</td>\n",
       "      <td>0</td>\n",
       "      <td>0</td>\n",
       "      <td>0</td>\n",
       "      <td>0</td>\n",
       "      <td>...</td>\n",
       "      <td>0</td>\n",
       "      <td>0</td>\n",
       "      <td>0</td>\n",
       "      <td>0</td>\n",
       "      <td>0</td>\n",
       "      <td>0</td>\n",
       "      <td>0</td>\n",
       "      <td>0</td>\n",
       "      <td>0</td>\n",
       "      <td>8</td>\n",
       "    </tr>\n",
       "    <tr>\n",
       "      <th>9998</th>\n",
       "      <td>0</td>\n",
       "      <td>0</td>\n",
       "      <td>0</td>\n",
       "      <td>0</td>\n",
       "      <td>0</td>\n",
       "      <td>0</td>\n",
       "      <td>0</td>\n",
       "      <td>0</td>\n",
       "      <td>0</td>\n",
       "      <td>0</td>\n",
       "      <td>...</td>\n",
       "      <td>0</td>\n",
       "      <td>0</td>\n",
       "      <td>0</td>\n",
       "      <td>0</td>\n",
       "      <td>0</td>\n",
       "      <td>0</td>\n",
       "      <td>0</td>\n",
       "      <td>0</td>\n",
       "      <td>0</td>\n",
       "      <td>10</td>\n",
       "    </tr>\n",
       "    <tr>\n",
       "      <th>9999</th>\n",
       "      <td>0</td>\n",
       "      <td>0</td>\n",
       "      <td>0</td>\n",
       "      <td>0</td>\n",
       "      <td>0</td>\n",
       "      <td>0</td>\n",
       "      <td>0</td>\n",
       "      <td>0</td>\n",
       "      <td>0</td>\n",
       "      <td>0</td>\n",
       "      <td>...</td>\n",
       "      <td>0</td>\n",
       "      <td>0</td>\n",
       "      <td>0</td>\n",
       "      <td>0</td>\n",
       "      <td>0</td>\n",
       "      <td>0</td>\n",
       "      <td>0</td>\n",
       "      <td>0</td>\n",
       "      <td>0</td>\n",
       "      <td>4</td>\n",
       "    </tr>\n",
       "  </tbody>\n",
       "</table>\n",
       "<p>5 rows × 38791 columns</p>\n",
       "</div>"
      ],
      "text/plain": [
       "      0  1  2  3  4  5  6  7  8  9 ...  38781  38782  38783  38784  38785  \\\n",
       "9995  0  0  0  0  0  0  0  0  0  0 ...      0      0      0      0      0   \n",
       "9996  0  0  0  0  0  0  0  0  0  0 ...      0      0      0      0      0   \n",
       "9997  0  0  0  0  0  0  0  0  0  0 ...      0      0      0      0      0   \n",
       "9998  0  0  0  0  0  0  0  0  0  0 ...      0      0      0      0      0   \n",
       "9999  0  0  0  0  0  0  0  0  0  0 ...      0      0      0      0      0   \n",
       "\n",
       "      38786  38787  38788  38789   y  \n",
       "9995      0      0      0      0   2  \n",
       "9996      0      0      0      0   6  \n",
       "9997      0      0      0      0   8  \n",
       "9998      0      0      0      0  10  \n",
       "9999      0      0      0      0   4  \n",
       "\n",
       "[5 rows x 38791 columns]"
      ]
     },
     "execution_count": 7,
     "metadata": {},
     "output_type": "execute_result"
    }
   ],
   "source": [
    "trans.tail()"
   ]
  },
  {
   "cell_type": "code",
   "execution_count": null,
   "metadata": {},
   "outputs": [],
   "source": [
    "le = LabelEncoder()\n",
    "\n",
    "y_train = le.fit_transform(trans['y'])\n",
    "X_train = trans.drop(\"y\",axis=1)\n",
    "\n",
    "print(\"Start1\")\n",
    "model_1 = lgb.LGBMClassifier(nthread=3)\n",
    "scores_1 = cross_val_score(estimator=model_1, X=X_train, y=y_train, cv=4, scoring='neg_log_loss')\n",
    "print(\"log_loss: %0.2f (%0.2f)\" % (scores_1.mean(), scores_1.std() * 2), '-> None')\n",
    "print(\"End\")\n",
    "print(\" \")\n",
    "\n",
    "print(\"Start2\")\n",
    "model_2 = lgb.LGBMClassifier(nthread=3, reg_alpha=0.5)\n",
    "scores_2 = cross_val_score(estimator=model_2, X=X_train, y=y_train, cv=4, scoring='neg_log_loss')\n",
    "print(\"log_loss: %0.2f (%0.2f)\" % (scores_2.mean(), scores_2.std() * 2), '-> reg_alpha=0.5')\n",
    "print(\"End\")\n",
    "print(\" \")\n",
    "\n",
    "print(\"Start3\")\n",
    "model_3 = lgb.LGBMClassifier(nthread=3, reg_alpha=1)\n",
    "scores_3 = cross_val_score(estimator=model_3, X=X_train, y=y_train, cv=4, scoring='neg_log_loss')\n",
    "print(\"log_loss: %0.2f (%0.2f)\" % (scores_3.mean(), scores_3.std() * 2), '-> reg_alpha=1')\n",
    "print(\"End\")\n",
    "print(\" \")\n",
    "\n",
    "print(\"Start4\")\n",
    "model_4 = lgb.LGBMClassifier(nthread=3, reg_alpha=0.5, learning_rate=0.05, n_estimator=200)\n",
    "scores_4 = cross_val_score(estimator=model_4, X=X_train, y=y_train, cv=4, scoring='neg_log_loss')\n",
    "print(\"log_loss: %0.2f (%0.2f)\" % (scores_4.mean(), scores_4.std() * 2), '-> reg_alpha=0.5, l_r=0.05, n_estimator=200')\n",
    "print(\"End\")\n",
    "print(\" \")\n",
    "\n",
    "print(\"Start5\")\n",
    "model_5 = lgb.LGBMClassifier(nthread=3, reg_alpha=1, learning_rate=0.05, n_estimator=300)\n",
    "scores_5 = cross_val_score(estimator=model_5, X=X_train, y=y_train, cv=4, scoring='neg_log_loss')\n",
    "print(\"log_loss: %0.2f (%0.2f)\" % (scores_5.mean(), scores_5.std() * 2), '-> reg_alpha=1, l_r=0.05, n_estimator=300')\n",
    "print(\"End\")\n",
    "print(\" \")\n",
    "\n",
    "print(\"Trial_Error\")\n",
    "model_6 = lgb.LGBMClassifier(nthread=3, n_estimators=200)\n",
    "scores_6 = cross_val_score(estimator=model_6, X=X_train, y=y_train, cv=4, scoring='neg_log_loss')\n",
    "print(\"log_loss: %0.2f (%0.2f)\" % (scores_6.mean(), scores_6.std() * 2), '-> n_estimator=200')\n",
    "print(\"End\")\n",
    "print(\" \")"
   ]
  },
  {
   "cell_type": "code",
   "execution_count": 8,
   "metadata": {},
   "outputs": [
    {
     "data": {
      "text/latex": [
       "$$\\left ( 6000, \\quad 4000, \\quad 6000, \\quad 4000\\right )$$"
      ],
      "text/plain": [
       "(6000, 4000, 6000, 4000)"
      ]
     },
     "execution_count": 8,
     "metadata": {},
     "output_type": "execute_result"
    }
   ],
   "source": [
    "X_train_T, X_test_T, y_train_T, y_test_T = train_test_split(trans.drop(\"y\", axis=1), trans['y'], \\\n",
    "                                                    test_size=0.4, random_state=0)\n",
    "\n",
    "len(X_train_T),len(X_test_T),len(y_train_T),len(y_test_T)"
   ]
  },
  {
   "cell_type": "code",
   "execution_count": 25,
   "metadata": {},
   "outputs": [],
   "source": [
    "def naver_movie_lgb():\n",
    "    \n",
    "    model_lgb = lgb.LGBMClassifier(nthread=3, reg_alpha=0.5, l_r=0.05, n_estimator=200)\n",
    "    model_lgb.fit(X_train_T, y_train_T)\n",
    "    \n",
    "    y_pred_l = model_lgb.predict(X_train_T)\n",
    "    \n",
    "    print(\"Train\", \"\\n\")\n",
    "    print(\"Confusion_Matrix\", \"\\n\")\n",
    "    print(confusion_matrix(y_train_T, y_pred_l), \"\\n\\n\")\n",
    "\n",
    "    print(\"Classification_Report\", \"\\n\")\n",
    "    print(classification_report(y_train_T, y_pred_l), \"\\n\\n\")\n",
    "\n",
    "    print(\"Accuracy_Score\", \"\\n\")\n",
    "    print(round(accuracy_score(y_train_T, y_pred_l),2), \"\\n\\n\")\n",
    "    \n",
    "    print(\"=====================================================\" , \"\\n\\n\")\n",
    "    \n",
    "    y_pred_l_T = model_lgb.predict(X_test_T)\n",
    "    \n",
    "    print(\"Test\", \"\\n\")\n",
    "    print(\"Confusion_Matrix\", \"\\n\")\n",
    "    print(confusion_matrix(y_test_T, y_pred_l_T), \"\\n\\n\")\n",
    "\n",
    "    print(\"Classification_Report\", \"\\n\")\n",
    "    print(classification_report(y_test_T, y_pred_l_T), \"\\n\\n\")\n",
    "\n",
    "    print(\"Accuracy_Score\", \"\\n\")\n",
    "    print(round(accuracy_score(y_test_T, y_pred_l_T),2))\n",
    "    \n",
    "    x=\"Train\",\"Test\"\n",
    "    y=accuracy_score(y_train_T, y_pred_l), accuracy_score(y_test_T, y_pred_l_T)\n",
    "    plt.bar(x,y)\n",
    "    plt.show()"
   ]
  },
  {
   "cell_type": "code",
   "execution_count": 26,
   "metadata": {
    "scrolled": false
   },
   "outputs": [
    {
     "name": "stdout",
     "output_type": "stream",
     "text": [
      "Train \n",
      "\n",
      "Confusion_Matrix \n",
      "\n",
      "[[  76    0    0    0    0    0    0    9    0  508]\n",
      " [   9    9    0    0    0    4    1    4    0  165]\n",
      " [   3    0    3    0    0    0    1    2    0   47]\n",
      " [   6    0    0    3    0    2    1    5    0  111]\n",
      " [   2    0    0    0    6    2    1    3    0   88]\n",
      " [  10    1    0    0    0   21    0   14    1  277]\n",
      " [   4    1    0    0    0    3   19    9    1  221]\n",
      " [   2    1    0    1    0    1    0   79    2  529]\n",
      " [   3    0    0    0    0    0    1   13   34  322]\n",
      " [  31    0    0    0    0    3    0   17    1 3307]] \n",
      "\n",
      "\n",
      "Classification_Report \n",
      "\n",
      "             precision    recall  f1-score   support\n",
      "\n",
      "          1       0.52      0.13      0.21       593\n",
      "          2       0.75      0.05      0.09       192\n",
      "          3       1.00      0.05      0.10        56\n",
      "          4       0.75      0.02      0.05       128\n",
      "          5       1.00      0.06      0.11       102\n",
      "          6       0.58      0.06      0.12       324\n",
      "          7       0.79      0.07      0.13       258\n",
      "          8       0.51      0.13      0.21       615\n",
      "          9       0.87      0.09      0.17       373\n",
      "         10       0.59      0.98      0.74      3359\n",
      "\n",
      "avg / total       0.62      0.59      0.48      6000\n",
      " \n",
      "\n",
      "\n",
      "Accuracy_Score \n",
      "\n",
      "0.59 \n",
      "\n",
      "\n",
      "===================================================== \n",
      "\n",
      "\n",
      "Test \n",
      "\n",
      "Confusion_Matrix \n",
      "\n",
      "[[  31    0    0    1    0    1    0    6    3  296]\n",
      " [  13    0    0    0    0    1    1    3    0  120]\n",
      " [   3    1    0    0    0    0    0    1    0   37]\n",
      " [   7    0    0    0    0    2    0    2    3   83]\n",
      " [   4    0    0    0    0    3    1    3    0   65]\n",
      " [   9    2    0    0    0    2    3   12    6  175]\n",
      " [   8    1    0    0    0    1    3   10    2  167]\n",
      " [  10    0    0    0    0    5    2   24    3  352]\n",
      " [   4    0    0    0    0    0    0   17    3  229]\n",
      " [  36    1    0    0    0    5    2   20    4 2191]] \n",
      "\n",
      "\n",
      "Classification_Report \n",
      "\n",
      "             precision    recall  f1-score   support\n",
      "\n",
      "          1       0.25      0.09      0.13       338\n",
      "          2       0.00      0.00      0.00       138\n",
      "          3       0.00      0.00      0.00        42\n",
      "          4       0.00      0.00      0.00        97\n",
      "          5       0.00      0.00      0.00        76\n",
      "          6       0.10      0.01      0.02       209\n",
      "          7       0.25      0.02      0.03       192\n",
      "          8       0.24      0.06      0.10       396\n",
      "          9       0.12      0.01      0.02       253\n",
      "         10       0.59      0.97      0.73      2259\n",
      "\n",
      "avg / total       0.40      0.56      0.44      4000\n",
      " \n",
      "\n",
      "\n",
      "Accuracy_Score \n",
      "\n",
      "0.56\n"
     ]
    },
    {
     "data": {
      "image/png": "[encoded data removed]",
      "text/plain": [
       "<Figure size 432x288 with 1 Axes>"
      ]
     },
     "metadata": {},
     "output_type": "display_data"
    }
   ],
   "source": [
    "naver_movie_lgb()"
   ]
  },
  {
   "cell_type": "markdown",
   "metadata": {},
   "source": [
    "---"
   ]
  },
  {
   "cell_type": "markdown",
   "metadata": {},
   "source": [
    "### 3-1. 감성 축소 ( 0 =비호감 or 1 =호감 )"
   ]
  },
  {
   "cell_type": "code",
   "execution_count": 9,
   "metadata": {},
   "outputs": [],
   "source": [
    "def new_category():\n",
    "    fdf = pd.read_csv(\"navermoviefinaldf.csv\")\n",
    "    fdfc = fdf[fdf['Point'].isin([\"1\",\"2\",\"3\",\"8\",\"9\",\"10\"])].reset_index(drop=True)\n",
    "    fdfc['category'] = fdfc['Point']\n",
    "    fdfc['category'].replace([1,2,3,8,9,10], [\"0\",\"0\",\"0\",\"1\",\"1\",\"1\"], inplace=True)\n",
    "    \n",
    "    return fdfc\n",
    "\n",
    "fdfc = new_category()"
   ]
  },
  {
   "cell_type": "code",
   "execution_count": 10,
   "metadata": {},
   "outputs": [
    {
     "data": {
      "text/html": [
       "<div>\n",
       "<style scoped>\n",
       "    .dataframe tbody tr th:only-of-type {\n",
       "        vertical-align: middle;\n",
       "    }\n",
       "\n",
       "    .dataframe tbody tr th {\n",
       "        vertical-align: top;\n",
       "    }\n",
       "\n",
       "    .dataframe thead th {\n",
       "        text-align: right;\n",
       "    }\n",
       "</style>\n",
       "<table border=\"1\" class=\"dataframe\">\n",
       "  <thead>\n",
       "    <tr style=\"text-align: right;\">\n",
       "      <th></th>\n",
       "      <th>Point</th>\n",
       "      <th>Name</th>\n",
       "      <th>Con</th>\n",
       "      <th>Number</th>\n",
       "      <th>category</th>\n",
       "    </tr>\n",
       "  </thead>\n",
       "  <tbody>\n",
       "    <tr>\n",
       "      <th>8609</th>\n",
       "      <td>10</td>\n",
       "      <td>리틀 포레스트</td>\n",
       "      <td>나는 보는 내내 배가 고팠다.</td>\n",
       "      <td>14011801</td>\n",
       "      <td>1</td>\n",
       "    </tr>\n",
       "    <tr>\n",
       "      <th>8610</th>\n",
       "      <td>10</td>\n",
       "      <td>그날, 바다</td>\n",
       "      <td>예고편만 봐도 소름진실이 꼭 드러나기를 바랍니다.</td>\n",
       "      <td>14011800</td>\n",
       "      <td>1</td>\n",
       "    </tr>\n",
       "    <tr>\n",
       "      <th>8611</th>\n",
       "      <td>2</td>\n",
       "      <td>월요일이 사라졌다</td>\n",
       "      <td>나쁜놈들  혼자보기  아까워서 혜자별점  줬냐 ㅋㅋㅋ리  영화 공상 과학영화다  참...</td>\n",
       "      <td>14011799</td>\n",
       "      <td>0</td>\n",
       "    </tr>\n",
       "    <tr>\n",
       "      <th>8612</th>\n",
       "      <td>8</td>\n",
       "      <td>그렘린</td>\n",
       "      <td>정말 재미있다. 그래서 아이들한테 보여주고 싶다.</td>\n",
       "      <td>14011796</td>\n",
       "      <td>1</td>\n",
       "    </tr>\n",
       "    <tr>\n",
       "      <th>8613</th>\n",
       "      <td>10</td>\n",
       "      <td>그날, 바다</td>\n",
       "      <td>영화보는내내 충격이였다 울고오진않을까..걱정되어 준비해간 휴지는 하나도 쓰지를 않았...</td>\n",
       "      <td>14011794</td>\n",
       "      <td>1</td>\n",
       "    </tr>\n",
       "  </tbody>\n",
       "</table>\n",
       "</div>"
      ],
      "text/plain": [
       "      Point       Name                                                Con  \\\n",
       "8609     10    리틀 포레스트                                  나는 보는 내내 배가 고팠다.    \n",
       "8610     10     그날, 바다                       예고편만 봐도 소름진실이 꼭 드러나기를 바랍니다.    \n",
       "8611      2  월요일이 사라졌다  나쁜놈들  혼자보기  아까워서 혜자별점  줬냐 ㅋㅋㅋ리  영화 공상 과학영화다  참...   \n",
       "8612      8        그렘린                       정말 재미있다. 그래서 아이들한테 보여주고 싶다.    \n",
       "8613     10     그날, 바다  영화보는내내 충격이였다 울고오진않을까..걱정되어 준비해간 휴지는 하나도 쓰지를 않았...   \n",
       "\n",
       "        Number category  \n",
       "8609  14011801        1  \n",
       "8610  14011800        1  \n",
       "8611  14011799        0  \n",
       "8612  14011796        1  \n",
       "8613  14011794        1  "
      ]
     },
     "execution_count": 10,
     "metadata": {},
     "output_type": "execute_result"
    }
   ],
   "source": [
    "fdfc.tail()"
   ]
  },
  {
   "cell_type": "markdown",
   "metadata": {},
   "source": [
    "### 3-2. 감성 축소 후 분석()"
   ]
  },
  {
   "cell_type": "code",
   "execution_count": 11,
   "metadata": {},
   "outputs": [],
   "source": [
    "from konlpy.tag import Twitter\n",
    "from konlpy.tag import *\n",
    "hannanum = Hannanum()\n",
    "kkma = Kkma()\n",
    "twitter = Twitter()\n",
    "\n",
    "def tokenize_pos(doc):\n",
    "    return ['/'.join(t) for t in twitter.pos(doc)]"
   ]
  },
  {
   "cell_type": "code",
   "execution_count": 12,
   "metadata": {},
   "outputs": [],
   "source": [
    "clf = Pipeline([\n",
    "    (\"vect\", TfidfVectorizer(tokenizer=tokenize_pos, ngram_range=(1,2))), \n",
    "    (\"clf\", MultinomialNB(alpha=0.05))\n",
    "])"
   ]
  },
  {
   "cell_type": "code",
   "execution_count": 13,
   "metadata": {},
   "outputs": [
    {
     "data": {
      "text/latex": [
       "$$\\left ( 6891, \\quad 1723, \\quad 6891, \\quad 1723\\right )$$"
      ],
      "text/plain": [
       "(6891, 1723, 6891, 1723)"
      ]
     },
     "execution_count": 13,
     "metadata": {},
     "output_type": "execute_result"
    }
   ],
   "source": [
    "X_train_AF, X_test_AF, y_train_AF, y_test_AF = train_test_split(fdfc['Con'], fdfc['category'], \\\n",
    "                                                    test_size=0.2, random_state=0)\n",
    "\n",
    "len(X_train_AF),len(X_test_AF),len(y_train_AF),len(y_test_AF)"
   ]
  },
  {
   "cell_type": "code",
   "execution_count": 14,
   "metadata": {},
   "outputs": [],
   "source": [
    "def naver_movie():\n",
    "    model_AF = clf.fit(X_train_AF, y_train_AF)\n",
    "    \n",
    "    y_pred_AF = model_AF.predict(X_train_AF)\n",
    "    \n",
    "    print(\"Train\", \"\\n\")\n",
    "    print(\"Train confusion_matrix\", \"\\n\")\n",
    "    print(confusion_matrix(y_train_AF, y_pred_AF), \"\\n\\n\")\n",
    "    print(\"Train classification_report\", \"\\n\")\n",
    "    print(classification_report(y_train_AF, y_pred_AF), \"\\n\\n\")\n",
    "    print(\"Train accuracy_score\", \"\\n\")\n",
    "    print(round(accuracy_score(y_train_AF, y_pred_AF), 2), \"\\n\\n\")\n",
    "    \n",
    "    print(\"=====================================================\" , \"\\n\\n\")\n",
    "    \n",
    "    y_pred_AF_T = model_AF.predict(X_test_AF)\n",
    "    \n",
    "    print(\"Test\", \"\\n\")\n",
    "    print(\"Test confusion_matrix\", \"\\n\")\n",
    "    print(confusion_matrix(y_test_AF, y_pred_AF_T), \"\\n\\n\")\n",
    "    print(\"Test classification_report\", \"\\n\")\n",
    "    print(classification_report(y_test_AF, y_pred_AF_T), \"\\n\\n\")\n",
    "    print(\"Test accuracy_score\", \"\\n\")\n",
    "    print(round(accuracy_score(y_test_AF, y_pred_AF_T), 2), \"\\n\\n\")\n",
    "    \n",
    "    x=\"Train\",\"Test\"\n",
    "    y=accuracy_score(y_train_AF, y_pred_AF), accuracy_score(y_test_AF, y_pred_AF_T)\n",
    "    plt.bar(x,y)\n",
    "    plt.show()"
   ]
  },
  {
   "cell_type": "code",
   "execution_count": 15,
   "metadata": {
    "scrolled": false
   },
   "outputs": [
    {
     "name": "stdout",
     "output_type": "stream",
     "text": [
      "Train \n",
      "\n",
      "Train confusion_matrix \n",
      "\n",
      "[[1083    4]\n",
      " [   1 5803]] \n",
      "\n",
      "\n",
      "Train classification_report \n",
      "\n",
      "             precision    recall  f1-score   support\n",
      "\n",
      "          0       1.00      1.00      1.00      1087\n",
      "          1       1.00      1.00      1.00      5804\n",
      "\n",
      "avg / total       1.00      1.00      1.00      6891\n",
      " \n",
      "\n",
      "\n",
      "Train accuracy_score \n",
      "\n",
      "1.0 \n",
      "\n",
      "\n",
      "===================================================== \n",
      "\n",
      "\n",
      "Test \n",
      "\n",
      "Test confusion_matrix \n",
      "\n",
      "[[ 106  166]\n",
      " [  12 1439]] \n",
      "\n",
      "\n",
      "Test classification_report \n",
      "\n",
      "             precision    recall  f1-score   support\n",
      "\n",
      "          0       0.90      0.39      0.54       272\n",
      "          1       0.90      0.99      0.94      1451\n",
      "\n",
      "avg / total       0.90      0.90      0.88      1723\n",
      " \n",
      "\n",
      "\n",
      "Test accuracy_score \n",
      "\n",
      "0.9 \n",
      "\n",
      "\n"
     ]
    },
    {
     "data": {
      "image/png": "[encoded data removed]",
      "text/plain": [
       "<Figure size 432x288 with 1 Axes>"
      ]
     },
     "metadata": {},
     "output_type": "display_data"
    }
   ],
   "source": [
    "naver_movie()"
   ]
  },
  {
   "cell_type": "markdown",
   "metadata": {},
   "source": [
    "### 3-3. 감성 축소 후 CountVectorizer 후 LGBMClassifier 분석 진행"
   ]
  },
  {
   "cell_type": "code",
   "execution_count": 17,
   "metadata": {},
   "outputs": [],
   "source": [
    "def CountVectorizer_naver_con():\n",
    "    vect = CountVectorizer()\n",
    "    vect.fit(fdfc['Con'])\n",
    "    #vect.vocabulary_\n",
    "    \n",
    "    trans2 = vect.transform(fdfc['Con']).toarray()\n",
    "    \n",
    "   #trans2 = pd.DataFrame(trans2, columns=vect.get_feature_names()).to_string()\n",
    "    trans2 = pd.DataFrame(trans2)\n",
    "    \n",
    "    trans2['y'] = fdfc['category']\n",
    "    \n",
    "    return trans2\n",
    "\n",
    "trans2 = CountVectorizer_naver_con()"
   ]
  },
  {
   "cell_type": "code",
   "execution_count": 19,
   "metadata": {},
   "outputs": [
    {
     "data": {
      "text/html": [
       "<div>\n",
       "<style scoped>\n",
       "    .dataframe tbody tr th:only-of-type {\n",
       "        vertical-align: middle;\n",
       "    }\n",
       "\n",
       "    .dataframe tbody tr th {\n",
       "        vertical-align: top;\n",
       "    }\n",
       "\n",
       "    .dataframe thead th {\n",
       "        text-align: right;\n",
       "    }\n",
       "</style>\n",
       "<table border=\"1\" class=\"dataframe\">\n",
       "  <thead>\n",
       "    <tr style=\"text-align: right;\">\n",
       "      <th></th>\n",
       "      <th>0</th>\n",
       "      <th>1</th>\n",
       "      <th>2</th>\n",
       "      <th>3</th>\n",
       "      <th>4</th>\n",
       "      <th>5</th>\n",
       "      <th>6</th>\n",
       "      <th>7</th>\n",
       "      <th>8</th>\n",
       "      <th>9</th>\n",
       "      <th>...</th>\n",
       "      <th>33621</th>\n",
       "      <th>33622</th>\n",
       "      <th>33623</th>\n",
       "      <th>33624</th>\n",
       "      <th>33625</th>\n",
       "      <th>33626</th>\n",
       "      <th>33627</th>\n",
       "      <th>33628</th>\n",
       "      <th>33629</th>\n",
       "      <th>y</th>\n",
       "    </tr>\n",
       "  </thead>\n",
       "  <tbody>\n",
       "    <tr>\n",
       "      <th>8609</th>\n",
       "      <td>0</td>\n",
       "      <td>0</td>\n",
       "      <td>0</td>\n",
       "      <td>0</td>\n",
       "      <td>0</td>\n",
       "      <td>0</td>\n",
       "      <td>0</td>\n",
       "      <td>0</td>\n",
       "      <td>0</td>\n",
       "      <td>0</td>\n",
       "      <td>...</td>\n",
       "      <td>0</td>\n",
       "      <td>0</td>\n",
       "      <td>0</td>\n",
       "      <td>0</td>\n",
       "      <td>0</td>\n",
       "      <td>0</td>\n",
       "      <td>0</td>\n",
       "      <td>0</td>\n",
       "      <td>0</td>\n",
       "      <td>1</td>\n",
       "    </tr>\n",
       "    <tr>\n",
       "      <th>8610</th>\n",
       "      <td>0</td>\n",
       "      <td>0</td>\n",
       "      <td>0</td>\n",
       "      <td>0</td>\n",
       "      <td>0</td>\n",
       "      <td>0</td>\n",
       "      <td>0</td>\n",
       "      <td>0</td>\n",
       "      <td>0</td>\n",
       "      <td>0</td>\n",
       "      <td>...</td>\n",
       "      <td>0</td>\n",
       "      <td>0</td>\n",
       "      <td>0</td>\n",
       "      <td>0</td>\n",
       "      <td>0</td>\n",
       "      <td>0</td>\n",
       "      <td>0</td>\n",
       "      <td>0</td>\n",
       "      <td>0</td>\n",
       "      <td>1</td>\n",
       "    </tr>\n",
       "    <tr>\n",
       "      <th>8611</th>\n",
       "      <td>0</td>\n",
       "      <td>0</td>\n",
       "      <td>0</td>\n",
       "      <td>0</td>\n",
       "      <td>0</td>\n",
       "      <td>0</td>\n",
       "      <td>0</td>\n",
       "      <td>0</td>\n",
       "      <td>0</td>\n",
       "      <td>0</td>\n",
       "      <td>...</td>\n",
       "      <td>0</td>\n",
       "      <td>0</td>\n",
       "      <td>0</td>\n",
       "      <td>0</td>\n",
       "      <td>0</td>\n",
       "      <td>0</td>\n",
       "      <td>0</td>\n",
       "      <td>0</td>\n",
       "      <td>0</td>\n",
       "      <td>0</td>\n",
       "    </tr>\n",
       "    <tr>\n",
       "      <th>8612</th>\n",
       "      <td>0</td>\n",
       "      <td>0</td>\n",
       "      <td>0</td>\n",
       "      <td>0</td>\n",
       "      <td>0</td>\n",
       "      <td>0</td>\n",
       "      <td>0</td>\n",
       "      <td>0</td>\n",
       "      <td>0</td>\n",
       "      <td>0</td>\n",
       "      <td>...</td>\n",
       "      <td>0</td>\n",
       "      <td>0</td>\n",
       "      <td>0</td>\n",
       "      <td>0</td>\n",
       "      <td>0</td>\n",
       "      <td>0</td>\n",
       "      <td>0</td>\n",
       "      <td>0</td>\n",
       "      <td>0</td>\n",
       "      <td>1</td>\n",
       "    </tr>\n",
       "    <tr>\n",
       "      <th>8613</th>\n",
       "      <td>0</td>\n",
       "      <td>0</td>\n",
       "      <td>0</td>\n",
       "      <td>0</td>\n",
       "      <td>0</td>\n",
       "      <td>0</td>\n",
       "      <td>0</td>\n",
       "      <td>0</td>\n",
       "      <td>0</td>\n",
       "      <td>0</td>\n",
       "      <td>...</td>\n",
       "      <td>0</td>\n",
       "      <td>0</td>\n",
       "      <td>0</td>\n",
       "      <td>0</td>\n",
       "      <td>0</td>\n",
       "      <td>0</td>\n",
       "      <td>0</td>\n",
       "      <td>0</td>\n",
       "      <td>0</td>\n",
       "      <td>1</td>\n",
       "    </tr>\n",
       "  </tbody>\n",
       "</table>\n",
       "<p>5 rows × 33631 columns</p>\n",
       "</div>"
      ],
      "text/plain": [
       "      0  1  2  3  4  5  6  7  8  9 ...  33621  33622  33623  33624  33625  \\\n",
       "8609  0  0  0  0  0  0  0  0  0  0 ...      0      0      0      0      0   \n",
       "8610  0  0  0  0  0  0  0  0  0  0 ...      0      0      0      0      0   \n",
       "8611  0  0  0  0  0  0  0  0  0  0 ...      0      0      0      0      0   \n",
       "8612  0  0  0  0  0  0  0  0  0  0 ...      0      0      0      0      0   \n",
       "8613  0  0  0  0  0  0  0  0  0  0 ...      0      0      0      0      0   \n",
       "\n",
       "      33626  33627  33628  33629  y  \n",
       "8609      0      0      0      0  1  \n",
       "8610      0      0      0      0  1  \n",
       "8611      0      0      0      0  0  \n",
       "8612      0      0      0      0  1  \n",
       "8613      0      0      0      0  1  \n",
       "\n",
       "[5 rows x 33631 columns]"
      ]
     },
     "execution_count": 19,
     "metadata": {},
     "output_type": "execute_result"
    }
   ],
   "source": [
    "trans2.tail()"
   ]
  },
  {
   "cell_type": "code",
   "execution_count": null,
   "metadata": {},
   "outputs": [],
   "source": [
    "le = LabelEncoder()\n",
    "\n",
    "y_train = le.fit_transform(trans2['y'])\n",
    "X_train = trans2.drop(\"y\",axis=1)\n",
    "\n",
    "print(\"Start1\")\n",
    "model_1 = lgb.LGBMClassifier(nthread=3)\n",
    "scores_1 = cross_val_score(estimator=model_1, X=X_train, y=y_train, cv=4, scoring='neg_log_loss')\n",
    "print(\"log_loss: %0.2f (%0.2f)\" % (scores_1.mean(), scores_1.std() * 2), '-> None')\n",
    "print(\"End\")\n",
    "print(\" \")\n",
    "\n",
    "print(\"Start2\")\n",
    "model_2 = lgb.LGBMClassifier(nthread=3, reg_alpha=0.5)\n",
    "scores_2 = cross_val_score(estimator=model_2, X=X_train, y=y_train, cv=4, scoring='neg_log_loss')\n",
    "print(\"log_loss: %0.2f (%0.2f)\" % (scores_2.mean(), scores_2.std() * 2), '-> reg_alpha=0.5')\n",
    "print(\"End\")\n",
    "print(\" \")\n",
    "\n",
    "print(\"Start3\")\n",
    "model_3 = lgb.LGBMClassifier(nthread=3, reg_alpha=1)\n",
    "scores_3 = cross_val_score(estimator=model_3, X=X_train, y=y_train, cv=4, scoring='neg_log_loss')\n",
    "print(\"log_loss: %0.2f (%0.2f)\" % (scores_3.mean(), scores_3.std() * 2), '-> reg_alpha=1')\n",
    "print(\"End\")\n",
    "print(\" \")\n",
    "\n",
    "print(\"Start4\")\n",
    "model_4 = lgb.LGBMClassifier(nthread=3, reg_alpha=0.5, learning_rate=0.05, n_estimator=200)\n",
    "scores_4 = cross_val_score(estimator=model_4, X=X_train, y=y_train, cv=4, scoring='neg_log_loss')\n",
    "print(\"log_loss: %0.2f (%0.2f)\" % (scores_4.mean(), scores_4.std() * 2), '-> reg_alpha=0.5, l_r=0.05, n_estimator=200')\n",
    "print(\"End\")\n",
    "print(\" \")\n",
    "\n",
    "print(\"Start5\")\n",
    "model_5 = lgb.LGBMClassifier(nthread=3, reg_alpha=1, learning_rate=0.05, n_estimator=300)\n",
    "scores_5 = cross_val_score(estimator=model_5, X=X_train, y=y_train, cv=4, scoring='neg_log_loss')\n",
    "print(\"log_loss: %0.2f (%0.2f)\" % (scores_5.mean(), scores_5.std() * 2), '-> reg_alpha=1, l_r=0.05, n_estimator=300')\n",
    "print(\"End\")\n",
    "print(\" \")\n",
    "\n",
    "print(\"Trial_Error\")\n",
    "model_6 = lgb.LGBMClassifier(nthread=3, n_estimators=200)\n",
    "scores_6 = cross_val_score(estimator=model_6, X=X_train, y=y_train, cv=4, scoring='neg_log_loss')\n",
    "print(\"log_loss: %0.2f (%0.2f)\" % (scores_6.mean(), scores_6.std() * 2), '-> n_estimator=200')\n",
    "print(\"End\")\n",
    "print(\" \")"
   ]
  },
  {
   "cell_type": "code",
   "execution_count": 20,
   "metadata": {},
   "outputs": [
    {
     "data": {
      "text/latex": [
       "$$\\left ( 6029, \\quad 2585, \\quad 6029, \\quad 2585\\right )$$"
      ],
      "text/plain": [
       "(6029, 2585, 6029, 2585)"
      ]
     },
     "execution_count": 20,
     "metadata": {},
     "output_type": "execute_result"
    }
   ],
   "source": [
    "X_train_AT, X_test_AT, y_train_AT, y_test_AT = train_test_split(trans2.drop(\"y\", axis=1), trans2['y'], \\\n",
    "                                                    test_size=0.3, random_state=0)\n",
    "\n",
    "len(X_train_AT),len(X_test_AT),len(y_train_AT),len(y_test_AT)"
   ]
  },
  {
   "cell_type": "code",
   "execution_count": 21,
   "metadata": {},
   "outputs": [],
   "source": [
    "def naver_movie_lgb():\n",
    "    \n",
    "    model_lgb_AT = lgb.LGBMClassifier(nthread=3, reg_alpha=0.5, l_r=0.05, n_estimator=200)\n",
    "    model_lgb_AT.fit(X_train_AT, y_train_AT)\n",
    "    \n",
    "    y_pred_l_AT = model_lgb_AT.predict(X_train_AT)\n",
    "    \n",
    "    print(\"Train\", \"\\n\")\n",
    "    print(\"Confusion_Matrix\", \"\\n\")\n",
    "    print(confusion_matrix(y_train_AT, y_pred_l_AT), \"\\n\\n\")\n",
    "\n",
    "    print(\"Classification_Report\", \"\\n\")\n",
    "    print(classification_report(y_train_AT, y_pred_l_AT), \"\\n\\n\")\n",
    "\n",
    "    print(\"Accuracy_Score\", \"\\n\")\n",
    "    print(round(accuracy_score(y_train_AT, y_pred_l_AT),2), \"\\n\\n\")\n",
    "    \n",
    "    print(\"=====================================================\" , \"\\n\\n\")\n",
    "    \n",
    "    y_pred_l_AT_T = model_lgb_AT.predict(X_test_AT)\n",
    "    \n",
    "    print(\"Test\", \"\\n\")\n",
    "    print(\"Confusion_Matrix\", \"\\n\")\n",
    "    print(confusion_matrix(y_test_AT, y_pred_l_AT_T), \"\\n\\n\")\n",
    "\n",
    "    print(\"Classification_Report\", \"\\n\")\n",
    "    print(classification_report(y_test_AT, y_pred_l_AT_T), \"\\n\\n\")\n",
    "\n",
    "    print(\"Accuracy_Score\", \"\\n\")\n",
    "    print(round(accuracy_score(y_test_AT, y_pred_l_AT_T),2))\n",
    "    \n",
    "    x=\"Train\",\"Test\"\n",
    "    y=accuracy_score(y_train_AT, y_pred_l_AT), accuracy_score(y_test_AT, y_pred_l_AT_T)\n",
    "    plt.bar(x,y)\n",
    "    plt.show()"
   ]
  },
  {
   "cell_type": "code",
   "execution_count": 22,
   "metadata": {
    "scrolled": false
   },
   "outputs": [
    {
     "name": "stdout",
     "output_type": "stream",
     "text": [
      "Train \n",
      "\n",
      "Confusion_Matrix \n",
      "\n",
      "[[ 161  795]\n",
      " [  45 5028]] \n",
      "\n",
      "\n",
      "Classification_Report \n",
      "\n",
      "             precision    recall  f1-score   support\n",
      "\n",
      "          0       0.78      0.17      0.28       956\n",
      "          1       0.86      0.99      0.92      5073\n",
      "\n",
      "avg / total       0.85      0.86      0.82      6029\n",
      " \n",
      "\n",
      "\n",
      "Accuracy_Score \n",
      "\n",
      "0.86 \n",
      "\n",
      "\n",
      "===================================================== \n",
      "\n",
      "\n",
      "Test \n",
      "\n",
      "Confusion_Matrix \n",
      "\n",
      "[[  44  359]\n",
      " [  28 2154]] \n",
      "\n",
      "\n",
      "Classification_Report \n",
      "\n",
      "             precision    recall  f1-score   support\n",
      "\n",
      "          0       0.61      0.11      0.19       403\n",
      "          1       0.86      0.99      0.92      2182\n",
      "\n",
      "avg / total       0.82      0.85      0.80      2585\n",
      " \n",
      "\n",
      "\n",
      "Accuracy_Score \n",
      "\n",
      "0.85\n"
     ]
    },
    {
     "data": {
      "image/png": "[encoded data removed]",
      "text/plain": [
       "<Figure size 432x288 with 1 Axes>"
      ]
     },
     "metadata": {},
     "output_type": "display_data"
    }
   ],
   "source": [
    "naver_movie_lgb()"
   ]
  },
  {
   "cell_type": "markdown",
   "metadata": {},
   "source": [
    "---"
   ]
  },
  {
   "cell_type": "markdown",
   "metadata": {},
   "source": [
    "### 보완 필요 사항"
   ]
  },
  {
   "cell_type": "markdown",
   "metadata": {},
   "source": [
    "데이터 갯수가 10,000개 밖에 없기 때문에 recall 성능이 기대만큼 좋지 않았기 때문에 하단의 코드, https://github.com/e9t/nsmc 와\n",
    "\n",
    "https://datascienceschool.net/view-notebook/3387abe1784248339e418835297e17d2/ 를 \n",
    "\n",
    "참조하여 200K개까지 늘려서 분석 진행, 목표는 accuracy_score성능 90% 이상\n",
    "\n"
   ]
  },
  {
   "cell_type": "code",
   "execution_count": 23,
   "metadata": {
    "collapsed": true
   },
   "outputs": [
    {
     "ename": "NameError",
     "evalue": "name 'i' is not defined",
     "output_type": "error",
     "traceback": [
      "\u001b[0;31m---------------------------------------------------------------------------\u001b[0m",
      "\u001b[0;31mNameError\u001b[0m                                 Traceback (most recent call last)",
      "\u001b[0;32m<ipython-input-23-21ae67a352e1>\u001b[0m in \u001b[0;36m<module>\u001b[0;34m()\u001b[0m\n\u001b[1;32m     94\u001b[0m \u001b[0;34m\u001b[0m\u001b[0m\n\u001b[1;32m     95\u001b[0m \u001b[0;32mwith\u001b[0m \u001b[0mThreadPoolExecutor\u001b[0m\u001b[0;34m(\u001b[0m\u001b[0mmax_workers\u001b[0m\u001b[0;34m=\u001b[0m\u001b[0;36m5\u001b[0m\u001b[0;34m)\u001b[0m \u001b[0;32mas\u001b[0m \u001b[0mexecutor\u001b[0m\u001b[0;34m:\u001b[0m\u001b[0;34m\u001b[0m\u001b[0m\n\u001b[0;32m---> 96\u001b[0;31m     \u001b[0;32mfor\u001b[0m \u001b[0mi\u001b[0m \u001b[0;32min\u001b[0m \u001b[0mrange\u001b[0m\u001b[0;34m(\u001b[0m\u001b[0mi\u001b[0m\u001b[0;34m,\u001b[0m \u001b[0mi\u001b[0m\u001b[0;34m)\u001b[0m\u001b[0;34m:\u001b[0m\u001b[0;34m\u001b[0m\u001b[0m\n\u001b[0m\u001b[1;32m     97\u001b[0m         \u001b[0mexecutor\u001b[0m\u001b[0;34m.\u001b[0m\u001b[0msubmit\u001b[0m\u001b[0;34m(\u001b[0m\u001b[0mfetch\u001b[0m\u001b[0;34m,\u001b[0m \u001b[0mi\u001b[0m\u001b[0;34m)\u001b[0m\u001b[0;34m\u001b[0m\u001b[0m\n\u001b[1;32m     98\u001b[0m \u001b[0;34m\u001b[0m\u001b[0m\n",
      "\u001b[0;31mNameError\u001b[0m: name 'i' is not defined"
     ]
    }
   ],
   "source": [
    "import urllib\n",
    "import urllib.request\n",
    "import urllib.parse\n",
    "import bs4\n",
    "import re\n",
    "import os\n",
    "import time\n",
    "from concurrent.futures import ThreadPoolExecutor\n",
    " \n",
    " \n",
    "def deleteTag(x):\n",
    "    return re.sub(\"<[^>]*>\", \"\", x)\n",
    " \n",
    " \n",
    "def getComments(code):\n",
    "    def makeArgs(code, page):\n",
    "        params = {\n",
    "            'code': code,\n",
    "            'type': 'after',\n",
    "            'isActualPointWriteExecute': 'false',\n",
    "            'isMileageSubscriptionAlready': 'false',\n",
    "            'isMileageSubscriptionReject': 'false',\n",
    "            'page': page\n",
    "        }\n",
    "        return urllib.parse.urlencode(params)\n",
    " \n",
    "    def innerHTML(s, sl=0):\n",
    "        ret = ''\n",
    "        for i in s.contents[sl:]:\n",
    "            if i is str:\n",
    "                ret += i.strip()\n",
    "            else:\n",
    "                ret += str(i)\n",
    "        return ret\n",
    " \n",
    "    def fText(s):\n",
    "        if len(s): return innerHTML(s[0]).strip()\n",
    "        return ''\n",
    " \n",
    "    retList = []\n",
    "    colSet = set()\n",
    "    print(\"Processing: %d\" % code)\n",
    "    page = 1\n",
    "    while 1:\n",
    "        try:\n",
    "            f = urllib.request.urlopen(\n",
    "                \"http://movie.naver.com/movie/bi/mi/pointWriteFormList.nhn?\" + makeArgs(code, page))\n",
    "            data = f.read().decode('utf-8')\n",
    "        except:\n",
    "            break\n",
    "        soup = bs4.BeautifulSoup(re.sub(\"&#(?![0-9])\", \"\", data), \"html.parser\")\n",
    "        cs = soup.select(\".score_result li\")\n",
    "        if not len(cs): break\n",
    "        for link in cs:\n",
    "            try:\n",
    "                url = link.select('.score_reple em a')[0].get('onclick')\n",
    "            except:\n",
    "                print(page)\n",
    "                print(data)\n",
    "                raise \"\"\n",
    "            m = re.search('[0-9]+', url)\n",
    "            if m:\n",
    "                url = m.group(0)\n",
    "            else:\n",
    "                url = ''\n",
    "            if url in colSet: return retList\n",
    "            colSet.add(url)\n",
    "            cat = fText(link.select('.star_score em'))\n",
    "            cont = fText(link.select('.score_reple p'))\n",
    "            cont = re.sub('<span [^>]+>.+?</span>', '', cont)\n",
    "            retList.append((url, cat, cont))\n",
    "        page += 1\n",
    " \n",
    "    return retList\n",
    " \n",
    " \n",
    "def fetch(i):\n",
    "    outname = './con/%d.csv' % i\n",
    "    try:\n",
    "        if os.stat(outname).st_size > 0: return\n",
    "    except:\n",
    "        None\n",
    "    rs = getComments(i)\n",
    "    if not len(rs): return\n",
    "    f = open(outname, 'w', encoding='utf-8')\n",
    "    f.write('INSERT IGNORE INTO movie VALUES ')\n",
    "    for idx, r in enumerate(rs):\n",
    "        if idx: f.write(',\\n')\n",
    "        f.write(\"(%d,%s,%s,'%s')\" % (i, r[0], r[1], r[2].replace(\"'\", \"''\").replace(\"\\\\\", \"\\\\\\\\\")))\n",
    "    f.write(';\\n')\n",
    "    f.close()\n",
    "#     time.sleep(1)\n",
    " \n",
    " \n",
    "with ThreadPoolExecutor(max_workers=5) as executor:\n",
    "    for i in range(i, i):\n",
    "        executor.submit(fetch, i)\n",
    "\n",
    "\n",
    "# 출처: http://bab2min.tistory.com/556?category=115012 [나의 큰 O는 logx야..]"
   ]
  },
  {
   "cell_type": "markdown",
   "metadata": {},
   "source": [
    "---"
   ]
  },
  {
   "cell_type": "code",
   "execution_count": 24,
   "metadata": {
    "collapsed": true
   },
   "outputs": [
    {
     "name": "stdout",
     "output_type": "stream",
     "text": [
      "--2018-04-20 21:35:55--  https://raw.githubusercontent.com/e9t/nsmc/master/ratings_train.txt\n",
      "Resolving raw.githubusercontent.com (raw.githubusercontent.com)... 151.101.88.133\n",
      "Connecting to raw.githubusercontent.com (raw.githubusercontent.com)|151.101.88.133|:443... connected.\n",
      "HTTP request sent, awaiting response... 200 OK\n",
      "Length: 14628807 (14M) [text/plain]\n",
      "Saving to: ‘ratings_train.txt’\n",
      "\n",
      "ratings_train.txt   100%[===================>]  13.95M   574KB/s    in 12s     \n",
      "\n",
      "2018-04-20 21:36:08 (1.20 MB/s) - ‘ratings_train.txt’ saved [14628807/14628807]\n",
      "\n",
      "--2018-04-20 21:36:08--  https://raw.githubusercontent.com/e9t/nsmc/master/ratings_test.txt\n",
      "Resolving raw.githubusercontent.com (raw.githubusercontent.com)... 151.101.88.133\n",
      "Connecting to raw.githubusercontent.com (raw.githubusercontent.com)|151.101.88.133|:443... connected.\n",
      "HTTP request sent, awaiting response... 200 OK\n",
      "Length: 4893335 (4.7M) [text/plain]\n",
      "Saving to: ‘ratings_test.txt’\n",
      "\n",
      "ratings_test.txt    100%[===================>]   4.67M   639KB/s    in 6.8s    \n",
      "\n",
      "2018-04-20 21:36:16 (700 KB/s) - ‘ratings_test.txt’ saved [4893335/4893335]\n",
      "\n",
      "CPU times: user 632 ms, sys: 240 ms, total: 873 ms\n",
      "Wall time: 21.2 s\n"
     ]
    }
   ],
   "source": [
    "%%time\n",
    "!wget -nc https://raw.githubusercontent.com/e9t/nsmc/master/ratings_train.txt\n",
    "!wget -nc https://raw.githubusercontent.com/e9t/nsmc/master/ratings_test.txt"
   ]
  },
  {
   "cell_type": "markdown",
   "metadata": {},
   "source": [
    "---"
   ]
  },
  {
   "cell_type": "code",
   "execution_count": 55,
   "metadata": {},
   "outputs": [],
   "source": [
    "from konlpy.tag import Twitter\n",
    "from konlpy.tag import *\n",
    "hannanum = Hannanum()\n",
    "kkma = Kkma()\n",
    "twitter = Twitter()\n",
    "\n",
    "def tokenize_pos(doc):\n",
    "    return ['/'.join(t) for t in twitter.pos(doc)]"
   ]
  },
  {
   "cell_type": "code",
   "execution_count": 56,
   "metadata": {},
   "outputs": [],
   "source": [
    "clf = Pipeline([\n",
    "    (\"vect\", TfidfVectorizer(tokenizer=tokenize_pos, stop_words=[\"..\", \"...\", \"....\", \".....\", \"~\", \"~~\"], \\\n",
    "                             ngram_range=(1,3), token_pattern=r\"\\b[a-z0-9_\\-\\.]+[a-z][a-z0-9_\\-\\.]+\\b\")), \n",
    "    (\"clf\", MultinomialNB(alpha=0.05))\n",
    "])"
   ]
  },
  {
   "cell_type": "code",
   "execution_count": 57,
   "metadata": {},
   "outputs": [],
   "source": [
    "def naver_movie_big():\n",
    "    \n",
    "    import codecs\n",
    "    with codecs.open(\"ratings_train.txt\", encoding='utf-8') as f:\n",
    "        data = [line.split('\\t') for line in f.read().splitlines()]\n",
    "        data = data[1:]   # header 제외\n",
    "\n",
    "    X = list(zip(*data))[1]\n",
    "    y = np.array(list(zip(*data))[2], dtype=int)\n",
    "    \n",
    "    import codecs\n",
    "    with codecs.open(\"ratings_test.txt\", encoding='utf-8') as f:\n",
    "        data_test = [line.split('\\t') for line in f.read().splitlines()]\n",
    "        data_test = data_test[1:]   # header 제외\n",
    "\n",
    "    X_test = list(zip(*data_test))[1]\n",
    "    y_test = np.array(list(zip(*data_test))[2], dtype=int)\n",
    "    \n",
    "    model = clf.fit(X, y)\n",
    "    \n",
    "    y_pred = model.predict(X)\n",
    "    \n",
    "    print(\"Train\", \"\\n\")\n",
    "    print(\"Train confusion_matrix\", \"\\n\")\n",
    "    print(confusion_matrix(y, y_pred), \"\\n\\n\")\n",
    "    print(\"Train classification_report\", \"\\n\")\n",
    "    print(classification_report(y, y_pred), \"\\n\\n\")\n",
    "    print(\"Train accuracy_score\", \"\\n\")\n",
    "    print(round(accuracy_score(y, y_pred), 2), \"\\n\\n\")\n",
    "    \n",
    "    print(\"=====================================================\" , \"\\n\\n\")\n",
    "    \n",
    "    y_pred_T = model.predict(X_test)\n",
    "    \n",
    "    print(\"Test\", \"\\n\")\n",
    "    print(\"Test confusion_matrix\", \"\\n\")\n",
    "    print(confusion_matrix(y_test, y_pred_T), \"\\n\\n\")\n",
    "    print(\"Test classification_report\", \"\\n\")\n",
    "    print(classification_report(y_test, y_pred_T), \"\\n\\n\")\n",
    "    print(\"Test accuracy_score\", \"\\n\")\n",
    "    print(round(accuracy_score(y_test, y_pred_T), 2), \"\\n\\n\")\n",
    "    \n",
    "    x=\"Train\",\"Test\"\n",
    "    y=accuracy_score(y, y_pred), accuracy_score(y_test, y_pred_T)\n",
    "    plt.bar(x,y)\n",
    "    plt.show()"
   ]
  },
  {
   "cell_type": "code",
   "execution_count": 58,
   "metadata": {
    "scrolled": false
   },
   "outputs": [
    {
     "name": "stdout",
     "output_type": "stream",
     "text": [
      "Train \n",
      "\n",
      "Train confusion_matrix \n",
      "\n",
      "[[74426   747]\n",
      " [  361 74466]] \n",
      "\n",
      "\n",
      "Train classification_report \n",
      "\n",
      "             precision    recall  f1-score   support\n",
      "\n",
      "          0       1.00      0.99      0.99     75173\n",
      "          1       0.99      1.00      0.99     74827\n",
      "\n",
      "avg / total       0.99      0.99      0.99    150000\n",
      " \n",
      "\n",
      "\n",
      "Train accuracy_score \n",
      "\n",
      "0.99 \n",
      "\n",
      "\n",
      "===================================================== \n",
      "\n",
      "\n",
      "Test \n",
      "\n",
      "Test confusion_matrix \n",
      "\n",
      "[[21673  3154]\n",
      " [ 3306 21867]] \n",
      "\n",
      "\n",
      "Test classification_report \n",
      "\n",
      "             precision    recall  f1-score   support\n",
      "\n",
      "          0       0.87      0.87      0.87     24827\n",
      "          1       0.87      0.87      0.87     25173\n",
      "\n",
      "avg / total       0.87      0.87      0.87     50000\n",
      " \n",
      "\n",
      "\n",
      "Test accuracy_score \n",
      "\n",
      "0.87 \n",
      "\n",
      "\n"
     ]
    },
    {
     "data": {
      "image/png": "[encoded data removed]",
      "text/plain": [
       "<Figure size 432x288 with 1 Axes>"
      ]
     },
     "metadata": {},
     "output_type": "display_data"
    }
   ],
   "source": [
    "naver_movie_big()"
   ]
  },
  {
   "cell_type": "code",
   "execution_count": null,
   "metadata": {},
   "outputs": [],
   "source": []
  }
 ],
 "metadata": {
  "kernelspec": {
   "display_name": "Python 3",
   "language": "python",
   "name": "python3"
  },
  "language_info": {
   "codemirror_mode": {
    "name": "ipython",
    "version": 3
   },
   "file_extension": ".py",
   "mimetype": "text/x-python",
   "name": "python",
   "nbconvert_exporter": "python",
   "pygments_lexer": "ipython3",
   "version": "3.6.4"
  }
 },
 "nbformat": 4,
 "nbformat_minor": 2
}
