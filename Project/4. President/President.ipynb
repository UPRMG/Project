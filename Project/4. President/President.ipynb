{
 "cells": [
  {
   "cell_type": "markdown",
   "metadata": {},
   "source": [
    "## Korea President별 인용구 분석"
   ]
  },
  {
   "cell_type": "code",
   "execution_count": 20,
   "metadata": {},
   "outputs": [],
   "source": [
    "from sklearn.feature_extraction.text import CountVectorizer, TfidfVectorizer\n",
    "from sklearn.model_selection import train_test_split\n",
    "from sklearn.naive_bayes import MultinomialNB\n",
    "from sklearn.pipeline import Pipeline\n",
    "from sklearn.metrics import confusion_matrix, classification_report\n",
    "from sklearn import metrics\n",
    "from sklearn.model_selection import cross_val_score\n",
    "from sklearn.preprocessing import LabelEncoder\n",
    "import warnings\n",
    "warnings.filterwarnings(\"ignore\")\n",
    "from konlpy.tag import Twitter\n",
    "import lightgbm as lgb\n",
    "import requests\n",
    "import pandas as pd \n",
    "from bs4 import BeautifulSoup\n",
    "import glob"
   ]
  },
  {
   "cell_type": "code",
   "execution_count": 22,
   "metadata": {},
   "outputs": [],
   "source": [
    "def data_setting():\n",
    "    ys = pd.read_csv(\"1. 김영삼 대통령 재임기간 인용문 추출.csv\", encoding=\"cp949\")\n",
    "    dj = pd.read_csv(\"2. 김대중 대통령 재임기간 인용문 추출.csv\", encoding=\"cp949\")\n",
    "    no = pd.read_csv(\"3. 노무현 대통령 재임기간 인용문 추출.csv\", encoding=\"cp949\")\n",
    "    mb = pd.read_csv(\"4. 이명박 대통령 재임기간 인용문 추출.csv\", encoding=\"cp949\")\n",
    "    \n",
    "    ys['category'] = 1\n",
    "    dj['category'] = 2\n",
    "    no['category'] = 3\n",
    "    mb['category'] = 4\n",
    "    \n",
    "    total = pd.concat([ys, dj, no, mb]).reset_index(drop=True)\n",
    "    \n",
    "    total = total.dropna()\n",
    "    \n",
    "    def remove(word):\n",
    "        word = re.sub(\"\\n\", \" \", word)\n",
    "        return word\n",
    "\n",
    "    total['인용구'] = total['인용구'].apply(remove)\n",
    "    \n",
    "    return total\n",
    "\n",
    "total = data_setting()"
   ]
  },
  {
   "cell_type": "code",
   "execution_count": 23,
   "metadata": {},
   "outputs": [
    {
     "data": {
      "text/html": [
       "<div>\n",
       "<style scoped>\n",
       "    .dataframe tbody tr th:only-of-type {\n",
       "        vertical-align: middle;\n",
       "    }\n",
       "\n",
       "    .dataframe tbody tr th {\n",
       "        vertical-align: top;\n",
       "    }\n",
       "\n",
       "    .dataframe thead th {\n",
       "        text-align: right;\n",
       "    }\n",
       "</style>\n",
       "<table border=\"1\" class=\"dataframe\">\n",
       "  <thead>\n",
       "    <tr style=\"text-align: right;\">\n",
       "      <th></th>\n",
       "      <th>날짜</th>\n",
       "      <th>언론사</th>\n",
       "      <th>뉴스ID</th>\n",
       "      <th>인용구</th>\n",
       "      <th>정보원</th>\n",
       "      <th>category</th>\n",
       "    </tr>\n",
       "  </thead>\n",
       "  <tbody>\n",
       "    <tr>\n",
       "      <th>49448</th>\n",
       "      <td>2008-02-01</td>\n",
       "      <td>세계일보</td>\n",
       "      <td>1.1007e+06</td>\n",
       "      <td>화합 속에 변화를 추구하고 선진화를 바탕으로 새 발전 체제를 열겠다</td>\n",
       "      <td>이명박 대통령</td>\n",
       "      <td>4</td>\n",
       "    </tr>\n",
       "    <tr>\n",
       "      <th>49449</th>\n",
       "      <td>2008-02-01</td>\n",
       "      <td>경향신문</td>\n",
       "      <td>1.1001e+06</td>\n",
       "      <td>미국의 루스벨트 대통령도 댐을 짓고 해서 경기를 부양한 예가 있어 그런 점에서 (대...</td>\n",
       "      <td>이명박 대통령</td>\n",
       "      <td>4</td>\n",
       "    </tr>\n",
       "    <tr>\n",
       "      <th>49450</th>\n",
       "      <td>2008-02-01</td>\n",
       "      <td>한겨레</td>\n",
       "      <td>1.101e+06</td>\n",
       "      <td>일주일 내내 청와대에 있으려고 생각하지 않는다</td>\n",
       "      <td>이명박 대통령</td>\n",
       "      <td>4</td>\n",
       "    </tr>\n",
       "    <tr>\n",
       "      <th>49451</th>\n",
       "      <td>2008-02-01</td>\n",
       "      <td>한국일보</td>\n",
       "      <td>1.1011e+06</td>\n",
       "      <td>저는 (취임 이후) 일주일 내내 청와대에 있으려고 생각하지 않는다 금요일 오후 되면...</td>\n",
       "      <td>이명박 대통령</td>\n",
       "      <td>4</td>\n",
       "    </tr>\n",
       "    <tr>\n",
       "      <th>49452</th>\n",
       "      <td>2008-02-01</td>\n",
       "      <td>한겨레</td>\n",
       "      <td>1.101e+06</td>\n",
       "      <td>비영어권 나라에서는 영어를 잘 쓰는 나라들이 못 쓰는 나라보다 훨씬 잘 산다 인수위...</td>\n",
       "      <td>이명박 대통령</td>\n",
       "      <td>4</td>\n",
       "    </tr>\n",
       "  </tbody>\n",
       "</table>\n",
       "</div>"
      ],
      "text/plain": [
       "               날짜   언론사        뉴스ID  \\\n",
       "49448  2008-02-01  세계일보  1.1007e+06   \n",
       "49449  2008-02-01  경향신문  1.1001e+06   \n",
       "49450  2008-02-01   한겨레   1.101e+06   \n",
       "49451  2008-02-01  한국일보  1.1011e+06   \n",
       "49452  2008-02-01   한겨레   1.101e+06   \n",
       "\n",
       "                                                     인용구      정보원  category  \n",
       "49448              화합 속에 변화를 추구하고 선진화를 바탕으로 새 발전 체제를 열겠다  이명박 대통령         4  \n",
       "49449  미국의 루스벨트 대통령도 댐을 짓고 해서 경기를 부양한 예가 있어 그런 점에서 (대...  이명박 대통령         4  \n",
       "49450                          일주일 내내 청와대에 있으려고 생각하지 않는다  이명박 대통령         4  \n",
       "49451  저는 (취임 이후) 일주일 내내 청와대에 있으려고 생각하지 않는다 금요일 오후 되면...  이명박 대통령         4  \n",
       "49452  비영어권 나라에서는 영어를 잘 쓰는 나라들이 못 쓰는 나라보다 훨씬 잘 산다 인수위...  이명박 대통령         4  "
      ]
     },
     "execution_count": 23,
     "metadata": {},
     "output_type": "execute_result"
    }
   ],
   "source": [
    "total.tail()"
   ]
  },
  {
   "cell_type": "markdown",
   "metadata": {},
   "source": [
    "### 1. 분석"
   ]
  },
  {
   "cell_type": "code",
   "execution_count": 24,
   "metadata": {},
   "outputs": [],
   "source": [
    "from konlpy.tag import Twitter\n",
    "from konlpy.tag import *\n",
    "hannanum = Hannanum()\n",
    "kkma = Kkma()\n",
    "twitter = Twitter()\n",
    "\n",
    "def tokenize_pos(doc):\n",
    "    return ['/'.join(t) for t in twitter.pos(doc)]"
   ]
  },
  {
   "cell_type": "code",
   "execution_count": 45,
   "metadata": {},
   "outputs": [],
   "source": [
    "clf = Pipeline([\n",
    "    (\"vect\", TfidfVectorizer(tokenizer=tokenize_pos, ngram_range=(1,3))), \n",
    "    (\"clf\", MultinomialNB(alpha=0.01))\n",
    "])"
   ]
  },
  {
   "cell_type": "code",
   "execution_count": 46,
   "metadata": {},
   "outputs": [
    {
     "data": {
      "text/latex": [
       "$$\\left ( 29604, \\quad 19736, \\quad 29604, \\quad 19736\\right )$$"
      ],
      "text/plain": [
       "(29604, 19736, 29604, 19736)"
      ]
     },
     "execution_count": 46,
     "metadata": {},
     "output_type": "execute_result"
    }
   ],
   "source": [
    "X_train, X_test, y_train, y_test = train_test_split(total['인용구'], total['category'], \\\n",
    "                                                    test_size=0.4, random_state=0)\n",
    "\n",
    "len(X_train),len(X_test),len(y_train),len(y_test)"
   ]
  },
  {
   "cell_type": "code",
   "execution_count": 47,
   "metadata": {},
   "outputs": [],
   "source": [
    "def Korea_President():\n",
    "    model  = clf.fit(X_train, y_train)\n",
    "    \n",
    "    y_pred  = model.predict(X_train)\n",
    "    \n",
    "    print(\"Train\", \"\\n\")\n",
    "    print(\"Train confusion_matrix\", \"\\n\")\n",
    "    print(confusion_matrix(y_train, y_pred), \"\\n\\n\")\n",
    "    print(\"Train classification_report\", \"\\n\")\n",
    "    print(classification_report(y_train, y_pred), \"\\n\\n\")\n",
    "    print(\"Train accuracy_score\", \"\\n\")\n",
    "    print(round(accuracy_score(y_train, y_pred), 2), \"\\n\\n\")\n",
    "    \n",
    "    print(\"=====================================================\" , \"\\n\\n\")\n",
    "    \n",
    "    y_pred_t = model.predict(X_test)\n",
    "    \n",
    "    print(\"Test\", \"\\n\")\n",
    "    print(\"Test confusion_matrix\", \"\\n\")\n",
    "    print(confusion_matrix(y_test, y_pred_t), \"\\n\\n\")\n",
    "    print(\"Test classification_report\", \"\\n\")\n",
    "    print(classification_report(y_test, y_pred_t), \"\\n\\n\")\n",
    "    print(\"Test accuracy_score\", \"\\n\")\n",
    "    print(round(accuracy_score(y_test, y_pred_t), 2), \"\\n\\n\")\n",
    "    \n",
    "    x=\"Train\",\"Test\"\n",
    "    y=accuracy_score(y_train, y_pred), accuracy_score(y_test, y_pred_t)\n",
    "    plt.bar(x,y)\n",
    "    plt.show()"
   ]
  },
  {
   "cell_type": "code",
   "execution_count": 48,
   "metadata": {},
   "outputs": [
    {
     "name": "stdout",
     "output_type": "stream",
     "text": [
      "Train \n",
      "\n",
      "Train confusion_matrix \n",
      "\n",
      "[[ 2289     2     3     4]\n",
      " [    1  5165     2    10]\n",
      " [    3     1  8642    10]\n",
      " [    2     1    13 13456]] \n",
      "\n",
      "\n",
      "Train classification_report \n",
      "\n",
      "             precision    recall  f1-score   support\n",
      "\n",
      "          1       1.00      1.00      1.00      2298\n",
      "          2       1.00      1.00      1.00      5178\n",
      "          3       1.00      1.00      1.00      8656\n",
      "          4       1.00      1.00      1.00     13472\n",
      "\n",
      "avg / total       1.00      1.00      1.00     29604\n",
      " \n",
      "\n",
      "\n",
      "Train accuracy_score \n",
      "\n",
      "1.0 \n",
      "\n",
      "\n",
      "===================================================== \n",
      "\n",
      "\n",
      "Test \n",
      "\n",
      "Test confusion_matrix \n",
      "\n",
      "[[ 969  216  180  156]\n",
      " [  55 2658  391  361]\n",
      " [  22  242 4848  598]\n",
      " [  32  164  524 8320]] \n",
      "\n",
      "\n",
      "Test classification_report \n",
      "\n",
      "             precision    recall  f1-score   support\n",
      "\n",
      "          1       0.90      0.64      0.75      1521\n",
      "          2       0.81      0.77      0.79      3465\n",
      "          3       0.82      0.85      0.83      5710\n",
      "          4       0.88      0.92      0.90      9040\n",
      "\n",
      "avg / total       0.85      0.85      0.85     19736\n",
      " \n",
      "\n",
      "\n",
      "Test accuracy_score \n",
      "\n",
      "0.85 \n",
      "\n",
      "\n"
     ]
    },
    {
     "data": {
      "image/png": "[encoded data removed]",
      "text/plain": [
       "<Figure size 432x288 with 1 Axes>"
      ]
     },
     "metadata": {},
     "output_type": "display_data"
    }
   ],
   "source": [
    "Korea_President()"
   ]
  },
  {
   "cell_type": "markdown",
   "metadata": {},
   "source": [
    "---"
   ]
  }
 ],
 "metadata": {
  "kernelspec": {
   "display_name": "Python 3",
   "language": "python",
   "name": "python3"
  },
  "language_info": {
   "codemirror_mode": {
    "name": "ipython",
    "version": 3
   },
   "file_extension": ".py",
   "mimetype": "text/x-python",
   "name": "python",
   "nbconvert_exporter": "python",
   "pygments_lexer": "ipython3",
   "version": "3.6.4"
  }
 },
 "nbformat": 4,
 "nbformat_minor": 2
}
