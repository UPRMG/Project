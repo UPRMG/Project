{
 "cells": [
  {
   "cell_type": "markdown",
   "metadata": {},
   "source": [
    "## Korea President별 인용구 분석"
   ]
  },
  {
   "cell_type": "code",
   "execution_count": 49,
   "metadata": {},
   "outputs": [],
   "source": [
    "from sklearn.feature_extraction.text import CountVectorizer, TfidfVectorizer\n",
    "from sklearn.model_selection import train_test_split\n",
    "from sklearn.naive_bayes import MultinomialNB\n",
    "from sklearn.pipeline import Pipeline\n",
    "from sklearn.metrics import confusion_matrix, classification_report\n",
    "from sklearn import metrics\n",
    "from sklearn.model_selection import cross_val_score\n",
    "from sklearn.preprocessing import LabelEncoder\n",
    "import warnings\n",
    "warnings.filterwarnings(\"ignore\")\n",
    "from konlpy.tag import Twitter\n",
    "import lightgbm as lgb\n",
    "import requests\n",
    "import pandas as pd \n",
    "from bs4 import BeautifulSoup\n",
    "import glob"
   ]
  },
  {
   "cell_type": "code",
   "execution_count": 50,
   "metadata": {},
   "outputs": [],
   "source": [
    "def data_setting():\n",
    "    ys = pd.read_csv(\"1. 김영삼 대통령 재임기간 인용문 추출.csv\", encoding=\"cp949\")\n",
    "    dj = pd.read_csv(\"2. 김대중 대통령 재임기간 인용문 추출.csv\", encoding=\"cp949\")\n",
    "    no = pd.read_csv(\"3. 노무현 대통령 재임기간 인용문 추출.csv\", encoding=\"cp949\")\n",
    "    mb = pd.read_csv(\"4. 이명박 대통령 재임기간 인용문 추출.csv\", encoding=\"cp949\")\n",
    "    \n",
    "    ys['category'] = 1\n",
    "    dj['category'] = 2\n",
    "    no['category'] = 3\n",
    "    mb['category'] = 4\n",
    "    \n",
    "    total = pd.concat([ys, dj, no, mb]).reset_index(drop=True)\n",
    "    \n",
    "    total = total.dropna()\n",
    "    \n",
    "    def remove(word):\n",
    "        word = re.sub(\"\\n\", \" \", word)\n",
    "        return word\n",
    "\n",
    "    total['인용구'] = total['인용구'].apply(remove)\n",
    "    \n",
    "    return total\n",
    "\n",
    "total = data_setting()"
   ]
  },
  {
   "cell_type": "code",
   "execution_count": 51,
   "metadata": {},
   "outputs": [
    {
     "data": {
      "text/html": [
       "<div>\n",
       "<style scoped>\n",
       "    .dataframe tbody tr th:only-of-type {\n",
       "        vertical-align: middle;\n",
       "    }\n",
       "\n",
       "    .dataframe tbody tr th {\n",
       "        vertical-align: top;\n",
       "    }\n",
       "\n",
       "    .dataframe thead th {\n",
       "        text-align: right;\n",
       "    }\n",
       "</style>\n",
       "<table border=\"1\" class=\"dataframe\">\n",
       "  <thead>\n",
       "    <tr style=\"text-align: right;\">\n",
       "      <th></th>\n",
       "      <th>날짜</th>\n",
       "      <th>언론사</th>\n",
       "      <th>뉴스ID</th>\n",
       "      <th>인용구</th>\n",
       "      <th>정보원</th>\n",
       "      <th>category</th>\n",
       "    </tr>\n",
       "  </thead>\n",
       "  <tbody>\n",
       "    <tr>\n",
       "      <th>49448</th>\n",
       "      <td>2008-02-01</td>\n",
       "      <td>세계일보</td>\n",
       "      <td>1.1007e+06</td>\n",
       "      <td>화합 속에 변화를 추구하고 선진화를 바탕으로 새 발전 체제를 열겠다</td>\n",
       "      <td>이명박 대통령</td>\n",
       "      <td>4</td>\n",
       "    </tr>\n",
       "    <tr>\n",
       "      <th>49449</th>\n",
       "      <td>2008-02-01</td>\n",
       "      <td>경향신문</td>\n",
       "      <td>1.1001e+06</td>\n",
       "      <td>미국의 루스벨트 대통령도 댐을 짓고 해서 경기를 부양한 예가 있어 그런 점에서 (대...</td>\n",
       "      <td>이명박 대통령</td>\n",
       "      <td>4</td>\n",
       "    </tr>\n",
       "    <tr>\n",
       "      <th>49450</th>\n",
       "      <td>2008-02-01</td>\n",
       "      <td>한겨레</td>\n",
       "      <td>1.101e+06</td>\n",
       "      <td>일주일 내내 청와대에 있으려고 생각하지 않는다</td>\n",
       "      <td>이명박 대통령</td>\n",
       "      <td>4</td>\n",
       "    </tr>\n",
       "    <tr>\n",
       "      <th>49451</th>\n",
       "      <td>2008-02-01</td>\n",
       "      <td>한국일보</td>\n",
       "      <td>1.1011e+06</td>\n",
       "      <td>저는 (취임 이후) 일주일 내내 청와대에 있으려고 생각하지 않는다 금요일 오후 되면...</td>\n",
       "      <td>이명박 대통령</td>\n",
       "      <td>4</td>\n",
       "    </tr>\n",
       "    <tr>\n",
       "      <th>49452</th>\n",
       "      <td>2008-02-01</td>\n",
       "      <td>한겨레</td>\n",
       "      <td>1.101e+06</td>\n",
       "      <td>비영어권 나라에서는 영어를 잘 쓰는 나라들이 못 쓰는 나라보다 훨씬 잘 산다 인수위...</td>\n",
       "      <td>이명박 대통령</td>\n",
       "      <td>4</td>\n",
       "    </tr>\n",
       "  </tbody>\n",
       "</table>\n",
       "</div>"
      ],
      "text/plain": [
       "               날짜   언론사        뉴스ID  \\\n",
       "49448  2008-02-01  세계일보  1.1007e+06   \n",
       "49449  2008-02-01  경향신문  1.1001e+06   \n",
       "49450  2008-02-01   한겨레   1.101e+06   \n",
       "49451  2008-02-01  한국일보  1.1011e+06   \n",
       "49452  2008-02-01   한겨레   1.101e+06   \n",
       "\n",
       "                                                     인용구      정보원  category  \n",
       "49448              화합 속에 변화를 추구하고 선진화를 바탕으로 새 발전 체제를 열겠다  이명박 대통령         4  \n",
       "49449  미국의 루스벨트 대통령도 댐을 짓고 해서 경기를 부양한 예가 있어 그런 점에서 (대...  이명박 대통령         4  \n",
       "49450                          일주일 내내 청와대에 있으려고 생각하지 않는다  이명박 대통령         4  \n",
       "49451  저는 (취임 이후) 일주일 내내 청와대에 있으려고 생각하지 않는다 금요일 오후 되면...  이명박 대통령         4  \n",
       "49452  비영어권 나라에서는 영어를 잘 쓰는 나라들이 못 쓰는 나라보다 훨씬 잘 산다 인수위...  이명박 대통령         4  "
      ]
     },
     "execution_count": 51,
     "metadata": {},
     "output_type": "execute_result"
    }
   ],
   "source": [
    "total.tail()"
   ]
  },
  {
   "cell_type": "markdown",
   "metadata": {},
   "source": [
    "### 1. 분석(원자료 활용)"
   ]
  },
  {
   "cell_type": "code",
   "execution_count": 52,
   "metadata": {},
   "outputs": [],
   "source": [
    "from konlpy.tag import Twitter\n",
    "from konlpy.tag import *\n",
    "hannanum = Hannanum()\n",
    "kkma = Kkma()\n",
    "twitter = Twitter()\n",
    "\n",
    "def tokenize_pos(doc):\n",
    "    return ['/'.join(t) for t in twitter.pos(doc)]"
   ]
  },
  {
   "cell_type": "code",
   "execution_count": 53,
   "metadata": {},
   "outputs": [],
   "source": [
    "clf = Pipeline([\n",
    "    (\"vect\", TfidfVectorizer(tokenizer=tokenize_pos, ngram_range=(1,3))), \n",
    "    (\"clf\", MultinomialNB(alpha=0.01))\n",
    "])"
   ]
  },
  {
   "cell_type": "code",
   "execution_count": 77,
   "metadata": {},
   "outputs": [
    {
     "data": {
      "text/latex": [
       "$$\\left ( 29604, \\quad 19736, \\quad 29604, \\quad 19736\\right )$$"
      ],
      "text/plain": [
       "(29604, 19736, 29604, 19736)"
      ]
     },
     "execution_count": 77,
     "metadata": {},
     "output_type": "execute_result"
    }
   ],
   "source": [
    "X_train, X_test, y_train, y_test = train_test_split(total['인용구'], total['정보원'], \\\n",
    "                                                    test_size=0.4, random_state=0)\n",
    "\n",
    "len(X_train),len(X_test),len(y_train),len(y_test)"
   ]
  },
  {
   "cell_type": "code",
   "execution_count": 82,
   "metadata": {
    "scrolled": false
   },
   "outputs": [
    {
     "name": "stdout",
     "output_type": "stream",
     "text": [
      "Train \n",
      "\n",
      "Train confusion_matrix \n",
      "\n",
      "[[2 0 0 ... 0 0 0]\n",
      " [0 1 0 ... 0 0 0]\n",
      " [0 0 1 ... 0 0 0]\n",
      " ...\n",
      " [0 0 0 ... 2 0 0]\n",
      " [0 0 0 ... 0 3 0]\n",
      " [0 0 0 ... 0 0 1]] \n",
      "\n",
      "\n",
      "Train classification_report \n",
      "\n",
      "                   precision    recall  f1-score   support\n",
      "\n",
      "          CEO 이명박       1.00      1.00      1.00         2\n",
      "      간담회 노무현 대통령       1.00      1.00      1.00         1\n",
      "국민회의 김대중 (金大中) 후보       1.00      1.00      1.00         1\n",
      "      국민회의 김대중 총재       1.00      1.00      1.00         5\n",
      "  국민회의 김대중 총재의 비서       1.00      1.00      1.00         1\n",
      "      국민회의 김대중 후보       1.00      1.00      1.00         1\n",
      "         국회의원 노무현       1.00      1.00      1.00         1\n",
      "    김대중 (金大中) 대통령       1.00      0.96      0.98        28\n",
      "     김대중 (金大中)대통령       1.00      1.00      1.00      2341\n",
      "      김대중 (金大中)총재       1.00      1.00      1.00         2\n",
      "  김대중 (金大中)평민당 총재       1.00      1.00      1.00         2\n",
      "      김대중 (金大中)후보       1.00      0.50      0.67         2\n",
      "     김대중 (金大中)대통령       0.99      0.98      0.99       484\n",
      "      김대중 (金大中)총재       1.00      1.00      1.00         1\n",
      "         김대중 　당선자       0.00      0.00      0.00         1\n",
      "      김대중 국민회의 총재       1.00      0.67      0.80         3\n",
      "      김대중 국민회의 후보       1.00      1.00      1.00         4\n",
      "          김대중 당선자       1.00      0.91      0.95        11\n",
      "          김대중 대통령       0.99      0.99      0.99      2172\n",
      "       김대중 대통령당선자       1.00      1.00      1.00        44\n",
      "       김대중 민주당 총재       1.00      1.00      1.00         1\n",
      "       김대중 신민당 후보       1.00      1.00      1.00         1\n",
      "        김대중 야당 총재       0.00      0.00      0.00         1\n",
      "        김대중 야당 후보       1.00      1.00      1.00         1\n",
      "          김대중 연구원       1.00      1.00      1.00         7\n",
      "        김대중 차기대통령       1.00      0.97      0.99        39\n",
      "           김대중 후보       1.00      1.00      1.00        20\n",
      "          김영삼 대통령       1.00      1.00      1.00      2265\n",
      "       김영삼 대통령당선자       1.00      1.00      1.00         2\n",
      "           김영삼 대표       1.00      0.50      0.67         2\n",
      "       김영삼 대표최고위원       1.00      1.00      1.00         1\n",
      "   김영삼 민자당 대통령 후보       1.00      1.00      1.00         2\n",
      "       김영삼 민자당 후보       1.00      0.67      0.80         3\n",
      "       김영삼 신민당 총재       1.00      1.00      1.00         1\n",
      "           김영삼 총재       1.00      1.00      1.00         2\n",
      "       김영삼 총재비서실장       1.00      1.00      1.00         1\n",
      "     김영삼 통일민주당 총재       1.00      1.00      1.00         1\n",
      "        김영삼 한국대통령       0.00      0.00      0.00         1\n",
      "           김영삼 후보       1.00      0.93      0.96        14\n",
      "   남북정상회담 김대중 대통령       1.00      1.00      1.00         1\n",
      "남북정상회담 이후 김대중 대통령       1.00      1.00      1.00         1\n",
      "     노무현 (盧武鉉)대통령       1.00      1.00      1.00         1\n",
      "     노무현 (盧武鉉)대통령       1.00      0.67      0.80         3\n",
      "          노무현 당선자       1.00      0.94      0.97        36\n",
      "        노무현 대선 후보       1.00      1.00      1.00         1\n",
      "     노무현 대선후보조직특보       1.00      1.00      1.00         1\n",
      "          노무현 대통령       0.99      1.00      1.00      8315\n",
      "      노무현 대통령.문후보       1.00      1.00      1.00         1\n",
      "       노무현 대통령당선자       1.00      1.00      1.00        17\n",
      "     노무현 대통령의'대통령       1.00      1.00      1.00         1\n",
      "        노무현 대통령후보       1.00      1.00      1.00        10\n",
      "   노무현 민주당 대통령 후보       1.00      1.00      1.00         1\n",
      "    노무현 민주당 대통령후보       1.00      1.00      1.00         1\n",
      "       노무현 민주당 후보       1.00      1.00      1.00         1\n",
      "           노무현 의원       1.00      1.00      1.00         2\n",
      "           노무현 인사       1.00      1.00      1.00         1\n",
      "        노무현 정부 인사       1.00      1.00      1.00         1\n",
      "        노무현 정부 장관       1.00      1.00      1.00         1\n",
      "   노무현 정부 정책평가위원장       1.00      1.00      1.00         1\n",
      "     노무현 해양수산부 장관       1.00      1.00      1.00         1\n",
      "           노무현 후보       1.00      0.95      0.97        60\n",
      "          노무현 후보자       1.00      1.00      1.00         1\n",
      "         노무현 후원회장       1.00      1.00      1.00         1\n",
      "       대신 노무현 대통령       1.00      1.00      1.00         2\n",
      "          대통령 김대중       1.00      1.00      1.00         2\n",
      "          대통령 노무현       1.00      0.86      0.92         7\n",
      "          대통령 이명박       1.00      0.71      0.83         7\n",
      "            도 노무현       1.00      1.00      1.00         5\n",
      "  도 노무현 (盧武鉉) 대통령       1.00      0.75      0.86         4\n",
      "        도 노무현 대통령       1.00      0.80      0.89        40\n",
      "       도중 노무현 대통령       1.00      1.00      1.00         1\n",
      "       민주당 김영삼 후보       1.00      1.00      1.00         1\n",
      "          민주당 노무현       1.00      1.00      1.00         2\n",
      " 민주당 노무현 (盧武鉉) 후보       1.00      1.00      1.00         1\n",
      "       민주당 노무현 후보       1.00      1.00      1.00         7\n",
      "  민주당 노무현 후보 비서실장       1.00      1.00      1.00         1\n",
      "          민주당 이명박       1.00      1.00      1.00         1\n",
      "            본 김영삼       1.00      1.00      1.00         1\n",
      "  본 노무현 (盧武鉉) 대통령       1.00      1.00      1.00         1\n",
      "        본 노무현 대통령       1.00      1.00      1.00         1\n",
      "    새천년민주당 노무현 후보       1.00      1.00      1.00         1\n",
      "       신민당 김영삼 총재       1.00      1.00      1.00         1\n",
      "          위원장 김대중       1.00      1.00      1.00         1\n",
      "         이명박 국회의원       1.00      1.00      1.00         1\n",
      "          이명박 당선자       1.00      0.83      0.91         6\n",
      "        이명박 대선 후보       1.00      1.00      1.00         2\n",
      "         이명박 대선후보       1.00      1.00      1.00         3\n",
      "          이명박 대통령       1.00      1.00      1.00     13306\n",
      "        이명박 대통령후보       1.00      1.00      1.00         3\n",
      "         이명박 서울시장       1.00      1.00      1.00        12\n",
      "           이명박 시장       1.00      1.00      1.00        10\n",
      "           이명박 정권       1.00      1.00      1.00         3\n",
      "          이명박 청와대       1.00      1.00      1.00         1\n",
      "   이명박 한나라당 경선 후보       1.00      1.00      1.00         2\n",
      "   이명박 한나라당 대선 후보       1.00      1.00      1.00         3\n",
      "  이명박 한나라당 대통령 후보       1.00      1.00      1.00         3\n",
      "      이명박 한나라당 후보       1.00      0.88      0.93         8\n",
      "      이명박 현대건설 사장       1.00      1.00      1.00         1\n",
      "           이명박 회장       1.00      1.00      1.00         1\n",
      "           이명박 후보       0.99      0.97      0.98        91\n",
      "          정치인 노무현       1.00      1.00      1.00         4\n",
      "      청와대 이명박 대통령       1.00      1.00      1.00         1\n",
      "            한 노무현       1.00      1.00      1.00         8\n",
      "  한 노무현 (盧武鉉) 대통령       1.00      1.00      1.00         5\n",
      "  한 노무현 (盧武鉉) 대통령       1.00      1.00      1.00         6\n",
      "        한 노무현 대통령       0.99      0.93      0.96        91\n",
      "    한 노무현 대통령 당선자       1.00      1.00      1.00         2\n",
      "      한나라당 이명박 후보       1.00      0.80      0.89         5\n",
      "  후 노무현 (盧武鉉) 대통령       1.00      1.00      1.00         2\n",
      "        후 노무현 대통령       1.00      0.75      0.86         4\n",
      "         후 노무현 후보       1.00      1.00      1.00         1\n",
      "\n",
      "      avg / total       1.00      1.00      1.00     29604\n",
      " \n",
      "\n",
      "\n",
      "Train accuracy_score \n",
      "\n",
      "1.0 \n",
      "\n",
      "\n",
      "===================================================== \n",
      "\n",
      "\n",
      "Test \n",
      "\n",
      "Test confusion_matrix \n",
      "\n",
      "[[1 0 0 ... 0 0 0]\n",
      " [0 0 0 ... 0 0 0]\n",
      " [0 0 0 ... 0 0 0]\n",
      " ...\n",
      " [0 0 0 ... 0 0 0]\n",
      " [0 0 0 ... 0 1 0]\n",
      " [0 0 0 ... 0 0 0]] \n",
      "\n",
      "\n",
      "Test classification_report \n",
      "\n",
      "                   precision    recall  f1-score   support\n",
      "\n",
      "          CEO 이명박       1.00      1.00      1.00         1\n",
      "      간담회 노무현 대통령       0.00      0.00      0.00         2\n",
      "국민회의 김대중 (金大中) 총재       0.00      0.00      0.00         1\n",
      "국민회의 김대중 (金大中) 후보       0.00      0.00      0.00         2\n",
      "      국민회의 김대중 총재       0.00      0.00      0.00         1\n",
      "      국민회의 김대중 후보       0.00      0.00      0.00         1\n",
      "    김대중 (金大中) 대통령       0.00      0.00      0.00        18\n",
      "     김대중 (金大中)대통령       0.53      0.57      0.55      1536\n",
      "      김대중 (金大中)총재       0.00      0.00      0.00         1\n",
      "     김대중 (金大中)대통령       0.44      0.14      0.21       350\n",
      "      김대중 (金大中)후보       0.00      0.00      0.00         1\n",
      "        김대중 00대통령       0.00      0.00      0.00         1\n",
      "     김대중 국민회의 대통령       0.00      0.00      0.00         1\n",
      "  김대중 국민회의 대통령 후보       0.00      0.00      0.00         1\n",
      "      김대중 국민회의 총재       0.00      0.00      0.00         1\n",
      "      김대중 국민회의 후보       0.00      0.00      0.00         2\n",
      "          김대중 당선자       0.00      0.00      0.00         8\n",
      "          김대중 대통령       0.59      0.36      0.45      1452\n",
      "      김대중 대통령 당선자       0.00      0.00      0.00         1\n",
      "       김대중 대통령당선자       0.75      0.14      0.24        43\n",
      "       김대중 민주당 총재       0.00      0.00      0.00         1\n",
      "         김대중 상임고문       0.00      0.00      0.00         1\n",
      "         김대중 새대통령       0.00      0.00      0.00         1\n",
      "          김대중 연구원       0.00      0.00      0.00         4\n",
      "        김대중 차기대통령       0.67      0.10      0.17        20\n",
      "           김대중 후보       1.00      0.07      0.13        14\n",
      "        김영삼 대선 후보       0.00      0.00      0.00         1\n",
      "         김영삼 대선후보       0.00      0.00      0.00         1\n",
      "          김영삼 대통령       0.86      0.68      0.76      1487\n",
      "        김영삼 대통령후보       0.00      0.00      0.00         2\n",
      "       김영삼 대표최고위원       0.00      0.00      0.00         1\n",
      "   김영삼 민자당 대통령 후보       0.00      0.00      0.00         2\n",
      "       김영삼 민자당 대표       0.00      0.00      0.00         1\n",
      "       김영삼 민자당 총재       0.00      0.00      0.00         1\n",
      "       김영삼 민자당 후보       0.00      0.00      0.00         4\n",
      "       김영삼 신민당 총재       0.00      0.00      0.00         3\n",
      "        김영삼 야당 총재       0.00      0.00      0.00         1\n",
      "           김영삼 총재       0.00      0.00      0.00         1\n",
      "     김영삼 통일민주당 후보       0.00      0.00      0.00         1\n",
      "           김영삼 후보       1.00      0.07      0.13        14\n",
      "   남북정상회담 김대중 대통령       0.00      0.00      0.00         1\n",
      "     노무현 (盧武鉉)대통령       0.00      0.00      0.00         2\n",
      "          노무현 당선자       1.00      0.18      0.31        22\n",
      "     노무현 대선후보후원회장       0.00      0.00      0.00         1\n",
      "          노무현 대통령       0.77      0.86      0.81      5490\n",
      "     노무현 대통령·정동영사       0.00      0.00      0.00         1\n",
      "       노무현 대통령당선자       0.50      0.09      0.15        11\n",
      "   노무현 민주당 대통령 후보       0.00      0.00      0.00         1\n",
      "    노무현 민주당 대통령후보       1.00      1.00      1.00         1\n",
      "     노무현 민주당 상임고문       0.00      0.00      0.00         1\n",
      "       노무현 민주당 후보       0.00      0.00      0.00         3\n",
      "           노무현 의원       0.00      0.00      0.00         1\n",
      "           노무현 장관       0.00      0.00      0.00         1\n",
      "      노무현 제16代대통령       0.00      0.00      0.00         1\n",
      "         노무현 총사령관       0.00      0.00      0.00         1\n",
      "     노무현 해양수산부 장관       0.00      0.00      0.00         3\n",
      "           노무현 후보       0.71      0.10      0.18        50\n",
      "          대통령 김대중       0.00      0.00      0.00         2\n",
      "          대통령 노무현       0.00      0.00      0.00         4\n",
      "          대통령 이명박       0.00      0.00      0.00         5\n",
      "            도 노무현       0.00      0.00      0.00         1\n",
      "  도 노무현 (盧武鉉) 대통령       0.00      0.00      0.00         1\n",
      "        도 노무현 대통령       0.00      0.00      0.00        19\n",
      "       민자당 김영삼 후보       0.00      0.00      0.00         1\n",
      " 민주당 노무현 (盧武鉉) 후보       0.00      0.00      0.00         2\n",
      "   민주당 노무현 대통령 후보       0.00      0.00      0.00         1\n",
      "       민주당 노무현 후보       0.00      0.00      0.00         6\n",
      "  본 노무현 (盧武鉉) 대통령       0.00      0.00      0.00         1\n",
      "         서울시장 이명박       0.00      0.00      0.00         1\n",
      "        선 노무현 대통령       0.00      0.00      0.00         1\n",
      "       세가 노무현 대통령       0.00      0.00      0.00         1\n",
      "          이명박 당선자       0.00      0.00      0.00         1\n",
      "        이명박 대선 후보       1.00      0.33      0.50         3\n",
      "         이명박 대선후보       0.00      0.00      0.00         1\n",
      "          이명박 대통령       0.85      0.93      0.89      8922\n",
      "         이명박 서울시장       1.00      0.47      0.64        15\n",
      "           이명박 시장       1.00      0.43      0.60         7\n",
      "           이명박 정권       0.00      0.00      0.00         3\n",
      "    이명박 한나라당 대선후보       0.00      0.00      0.00         1\n",
      "     이명박 한나라당 대통령       0.00      0.00      0.00         2\n",
      "  이명박 한나라당 대통령 후보       1.00      0.25      0.40         4\n",
      "      이명박 한나라당 후보       1.00      0.25      0.40         8\n",
      "           이명박 후보       0.81      0.38      0.52        58\n",
      "          정치인 노무현       0.00      0.00      0.00         4\n",
      "하나로 노무현 (盧武鉉) 대통령       0.00      0.00      0.00         1\n",
      "            한 노무현       1.00      0.25      0.40         4\n",
      "  한 노무현 (盧武鉉) 대통령       0.00      0.00      0.00         3\n",
      "  한 노무현 (盧武鉉) 대통령       0.00      0.00      0.00         5\n",
      "        한 노무현 대통령       0.00      0.00      0.00        62\n",
      "      한 노무현 전 대통령       0.00      0.00      0.00         1\n",
      "   한나라당 이명박 당시 후보       0.00      0.00      0.00         1\n",
      "  한나라당 이명박 대통령 후보       0.00      0.00      0.00         1\n",
      "      한나라당 이명박 후보       1.00      0.17      0.29         6\n",
      "        후 노무현 대통령       0.00      0.00      0.00         1\n",
      "\n",
      "      avg / total       0.77      0.79      0.77     19736\n",
      " \n",
      "\n",
      "\n",
      "Test accuracy_score \n",
      "\n",
      "0.79 \n",
      "\n",
      "\n"
     ]
    },
    {
     "data": {
      "image/png": "[encoded data removed]",
      "text/plain": [
       "<Figure size 432x288 with 1 Axes>"
      ]
     },
     "metadata": {},
     "output_type": "display_data"
    }
   ],
   "source": [
    "# def Korea_President():\n",
    "\n",
    "model  = clf.fit(X_train, y_train)\n",
    "\n",
    "y_pred  = model.predict(X_train)\n",
    "\n",
    "print(\"Train\", \"\\n\")\n",
    "print(\"Train confusion_matrix\", \"\\n\")\n",
    "print(confusion_matrix(y_train, y_pred), \"\\n\\n\")\n",
    "print(\"Train classification_report\", \"\\n\")\n",
    "print(classification_report(y_train, y_pred), \"\\n\\n\")\n",
    "print(\"Train accuracy_score\", \"\\n\")\n",
    "print(round(accuracy_score(y_train, y_pred), 2), \"\\n\\n\")\n",
    "\n",
    "print(\"=====================================================\" , \"\\n\\n\")\n",
    "\n",
    "y_pred_t = model.predict(X_test)\n",
    "\n",
    "print(\"Test\", \"\\n\")\n",
    "print(\"Test confusion_matrix\", \"\\n\")\n",
    "print(confusion_matrix(y_test, y_pred_t), \"\\n\\n\")\n",
    "print(\"Test classification_report\", \"\\n\")\n",
    "print(classification_report(y_test, y_pred_t), \"\\n\\n\")\n",
    "print(\"Test accuracy_score\", \"\\n\")\n",
    "print(round(accuracy_score(y_test, y_pred_t), 2), \"\\n\\n\")\n",
    "\n",
    "x=\"Train\",\"Test\"\n",
    "y=accuracy_score(y_train, y_pred), accuracy_score(y_test, y_pred_t)\n",
    "plt.bar(x,y)\n",
    "plt.show()"
   ]
  },
  {
   "cell_type": "markdown",
   "metadata": {},
   "source": [
    "### 문구 Test"
   ]
  },
  {
   "cell_type": "code",
   "execution_count": 83,
   "metadata": {},
   "outputs": [],
   "source": [
    "X_=pd.Series(\"댐\")"
   ]
  },
  {
   "cell_type": "code",
   "execution_count": 84,
   "metadata": {},
   "outputs": [],
   "source": [
    "y_pred_t = model.predict_proba(X_)\n",
    "y_pred = model.predict(X_)"
   ]
  },
  {
   "cell_type": "code",
   "execution_count": 85,
   "metadata": {},
   "outputs": [
    {
     "data": {
      "text/plain": [
       "array([[7.01344316e-06, 3.50719603e-06, 3.50969312e-06, 1.75175568e-05,\n",
       "        3.50897364e-06, 3.50952022e-06, 3.51149320e-06, 9.66204437e-05,\n",
       "        1.42890696e-01, 7.01776717e-06, 7.00995379e-06, 7.01870242e-06,\n",
       "        5.51639313e-02, 3.51139133e-06, 3.51163500e-06, 1.05144334e-05,\n",
       "        1.40123379e-05, 3.83022789e-05, 1.87027578e-01, 1.48863532e-04,\n",
       "        3.51080672e-06, 3.51130636e-06, 3.51162597e-06, 3.51060881e-06,\n",
       "        2.44328009e-05, 1.32695042e-04, 6.95267987e-05, 2.65738109e-03,\n",
       "        7.01770729e-06, 7.01455031e-06, 3.51091002e-06, 7.01527907e-06,\n",
       "        1.05174580e-05, 3.50962140e-06, 7.01770531e-06, 3.51083370e-06,\n",
       "        3.51099467e-06, 3.51097433e-06, 4.88380072e-05, 3.51031583e-06,\n",
       "        3.50834876e-06, 3.50974540e-06, 1.05007997e-05, 1.22909253e-04,\n",
       "        3.50839786e-06, 3.51082928e-06, 2.17613564e-01, 3.51000656e-06,\n",
       "        5.89924638e-05, 3.51112970e-06, 3.49337230e-05, 3.50909589e-06,\n",
       "        3.50930467e-06, 3.51131662e-06, 7.01721002e-06, 3.51110357e-06,\n",
       "        3.51187144e-06, 3.51055882e-06, 3.51040429e-06, 3.51072714e-06,\n",
       "        2.02531601e-04, 3.50972263e-06, 3.50985199e-06, 7.01553718e-06,\n",
       "        7.01662246e-06, 2.44601305e-05, 2.45060685e-05, 1.75257757e-05,\n",
       "        1.40156343e-05, 1.37380742e-04, 3.51057865e-06, 3.51147121e-06,\n",
       "        7.01624048e-06, 3.50835867e-06, 2.44549821e-05, 3.51129744e-06,\n",
       "        3.51138514e-06, 3.50992306e-06, 3.50917511e-06, 3.51097829e-06,\n",
       "        3.51129009e-06, 3.51042034e-06, 3.50950135e-06, 3.51093764e-06,\n",
       "        2.10149929e-05, 7.01730138e-06, 1.05210087e-05, 3.92182253e-01,\n",
       "        1.05093603e-05, 4.18669830e-05, 3.49399617e-05, 1.05274421e-05,\n",
       "        3.50974558e-06, 7.02173325e-06, 1.05160923e-05, 1.05153175e-05,\n",
       "        2.79880671e-05, 3.51052615e-06, 3.51063810e-06, 3.04448387e-04,\n",
       "        1.40173078e-05, 3.50982553e-06, 2.79757276e-05, 1.74793748e-05,\n",
       "        2.09662126e-05, 2.97970851e-04, 7.01683153e-06, 1.75137238e-05,\n",
       "        7.01581826e-06, 1.39947468e-05, 3.51036138e-06]])"
      ]
     },
     "execution_count": 85,
     "metadata": {},
     "output_type": "execute_result"
    }
   ],
   "source": [
    "y_pred_t"
   ]
  },
  {
   "cell_type": "code",
   "execution_count": 86,
   "metadata": {
    "scrolled": true
   },
   "outputs": [
    {
     "data": {
      "text/plain": [
       "array(['이명박 대통령'], dtype='<U17')"
      ]
     },
     "execution_count": 86,
     "metadata": {},
     "output_type": "execute_result"
    }
   ],
   "source": [
    "y_pred"
   ]
  },
  {
   "cell_type": "markdown",
   "metadata": {},
   "source": [
    "---"
   ]
  },
  {
   "cell_type": "markdown",
   "metadata": {},
   "source": [
    "### 대통령 category"
   ]
  },
  {
   "cell_type": "code",
   "execution_count": 87,
   "metadata": {},
   "outputs": [],
   "source": [
    "from konlpy.tag import Twitter\n",
    "from konlpy.tag import *\n",
    "hannanum = Hannanum()\n",
    "kkma = Kkma()\n",
    "twitter = Twitter()\n",
    "\n",
    "def tokenize_pos(doc):\n",
    "    return ['/'.join(t) for t in twitter.pos(doc)]"
   ]
  },
  {
   "cell_type": "code",
   "execution_count": 88,
   "metadata": {},
   "outputs": [],
   "source": [
    "clf = Pipeline([\n",
    "    (\"vect\", TfidfVectorizer(tokenizer=tokenize_pos, ngram_range=(1,3))), \n",
    "    (\"clf\", MultinomialNB(alpha=0.01))\n",
    "])"
   ]
  },
  {
   "cell_type": "code",
   "execution_count": 89,
   "metadata": {},
   "outputs": [
    {
     "data": {
      "text/latex": [
       "$$\\left ( 29604, \\quad 19736, \\quad 29604, \\quad 19736\\right )$$"
      ],
      "text/plain": [
       "(29604, 19736, 29604, 19736)"
      ]
     },
     "execution_count": 89,
     "metadata": {},
     "output_type": "execute_result"
    }
   ],
   "source": [
    "X_train, X_test, y_train, y_test = train_test_split(total['인용구'], total['category'], \\\n",
    "                                                    test_size=0.4, random_state=0)\n",
    "\n",
    "len(X_train),len(X_test),len(y_train),len(y_test)"
   ]
  },
  {
   "cell_type": "code",
   "execution_count": 90,
   "metadata": {
    "scrolled": false
   },
   "outputs": [
    {
     "name": "stdout",
     "output_type": "stream",
     "text": [
      "Train \n",
      "\n",
      "Train confusion_matrix \n",
      "\n",
      "[[ 2289     2     3     4]\n",
      " [    1  5165     2    10]\n",
      " [    3     1  8642    10]\n",
      " [    2     1    13 13456]] \n",
      "\n",
      "\n",
      "Train classification_report \n",
      "\n",
      "             precision    recall  f1-score   support\n",
      "\n",
      "          1       1.00      1.00      1.00      2298\n",
      "          2       1.00      1.00      1.00      5178\n",
      "          3       1.00      1.00      1.00      8656\n",
      "          4       1.00      1.00      1.00     13472\n",
      "\n",
      "avg / total       1.00      1.00      1.00     29604\n",
      " \n",
      "\n",
      "\n",
      "Train accuracy_score \n",
      "\n",
      "1.0 \n",
      "\n",
      "\n",
      "===================================================== \n",
      "\n",
      "\n",
      "Test \n",
      "\n",
      "Test confusion_matrix \n",
      "\n",
      "[[ 969  216  180  156]\n",
      " [  55 2658  391  361]\n",
      " [  22  242 4848  598]\n",
      " [  32  164  524 8320]] \n",
      "\n",
      "\n",
      "Test classification_report \n",
      "\n",
      "             precision    recall  f1-score   support\n",
      "\n",
      "          1       0.90      0.64      0.75      1521\n",
      "          2       0.81      0.77      0.79      3465\n",
      "          3       0.82      0.85      0.83      5710\n",
      "          4       0.88      0.92      0.90      9040\n",
      "\n",
      "avg / total       0.85      0.85      0.85     19736\n",
      " \n",
      "\n",
      "\n",
      "Test accuracy_score \n",
      "\n",
      "0.85 \n",
      "\n",
      "\n"
     ]
    },
    {
     "data": {
      "image/png": "[encoded data removed]",
      "text/plain": [
       "<Figure size 432x288 with 1 Axes>"
      ]
     },
     "metadata": {},
     "output_type": "display_data"
    }
   ],
   "source": [
    "# def Korea_President():\n",
    "\n",
    "model  = clf.fit(X_train, y_train)\n",
    "\n",
    "y_pred  = model.predict(X_train)\n",
    "\n",
    "print(\"Train\", \"\\n\")\n",
    "print(\"Train confusion_matrix\", \"\\n\")\n",
    "print(confusion_matrix(y_train, y_pred), \"\\n\\n\")\n",
    "print(\"Train classification_report\", \"\\n\")\n",
    "print(classification_report(y_train, y_pred), \"\\n\\n\")\n",
    "print(\"Train accuracy_score\", \"\\n\")\n",
    "print(round(accuracy_score(y_train, y_pred), 2), \"\\n\\n\")\n",
    "\n",
    "print(\"=====================================================\" , \"\\n\\n\")\n",
    "\n",
    "y_pred_t = model.predict(X_test)\n",
    "\n",
    "print(\"Test\", \"\\n\")\n",
    "print(\"Test confusion_matrix\", \"\\n\")\n",
    "print(confusion_matrix(y_test, y_pred_t), \"\\n\\n\")\n",
    "print(\"Test classification_report\", \"\\n\")\n",
    "print(classification_report(y_test, y_pred_t), \"\\n\\n\")\n",
    "print(\"Test accuracy_score\", \"\\n\")\n",
    "print(round(accuracy_score(y_test, y_pred_t), 2), \"\\n\\n\")\n",
    "\n",
    "x=\"Train\",\"Test\"\n",
    "y=accuracy_score(y_train, y_pred), accuracy_score(y_test, y_pred_t)\n",
    "plt.bar(x,y)\n",
    "plt.show()"
   ]
  },
  {
   "cell_type": "markdown",
   "metadata": {},
   "source": [
    "### 문구 Test"
   ]
  },
  {
   "cell_type": "code",
   "execution_count": 91,
   "metadata": {},
   "outputs": [],
   "source": [
    "X_=pd.Series(\"개헌\")"
   ]
  },
  {
   "cell_type": "code",
   "execution_count": 92,
   "metadata": {},
   "outputs": [],
   "source": [
    "y_pred_t = model.predict_proba(X_)\n",
    "y_pred = model.predict(X_)"
   ]
  },
  {
   "cell_type": "code",
   "execution_count": 93,
   "metadata": {},
   "outputs": [
    {
     "data": {
      "text/plain": [
       "array([[0.0618558 , 0.12580478, 0.58182646, 0.23051296]])"
      ]
     },
     "execution_count": 93,
     "metadata": {},
     "output_type": "execute_result"
    }
   ],
   "source": [
    "y_pred_t"
   ]
  },
  {
   "cell_type": "code",
   "execution_count": 94,
   "metadata": {
    "scrolled": true
   },
   "outputs": [
    {
     "data": {
      "text/plain": [
       "array([3])"
      ]
     },
     "execution_count": 94,
     "metadata": {},
     "output_type": "execute_result"
    }
   ],
   "source": [
    "y_pred"
   ]
  },
  {
   "cell_type": "markdown",
   "metadata": {},
   "source": [
    "---"
   ]
  },
  {
   "cell_type": "code",
   "execution_count": null,
   "metadata": {},
   "outputs": [],
   "source": []
  }
 ],
 "metadata": {
  "kernelspec": {
   "display_name": "Python 3",
   "language": "python",
   "name": "python3"
  },
  "language_info": {
   "codemirror_mode": {
    "name": "ipython",
    "version": 3
   },
   "file_extension": ".py",
   "mimetype": "text/x-python",
   "name": "python",
   "nbconvert_exporter": "python",
   "pygments_lexer": "ipython3",
   "version": "3.6.4"
  }
 },
 "nbformat": 4,
 "nbformat_minor": 2
}
