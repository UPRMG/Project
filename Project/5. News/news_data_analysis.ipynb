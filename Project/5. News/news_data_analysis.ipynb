{
 "cells": [
  {
   "cell_type": "markdown",
   "metadata": {},
   "source": [
    "## 뉴스 주제 분류 분석"
   ]
  },
  {
   "cell_type": "code",
   "execution_count": 261,
   "metadata": {},
   "outputs": [],
   "source": [
    "from sklearn.feature_extraction.text import CountVectorizer, TfidfVectorizer\n",
    "from sklearn.model_selection import train_test_split\n",
    "from sklearn.naive_bayes import MultinomialNB\n",
    "from sklearn.pipeline import Pipeline\n",
    "from sklearn.metrics import confusion_matrix, classification_report\n",
    "from sklearn import metrics\n",
    "from sklearn.model_selection import cross_val_score\n",
    "from sklearn.preprocessing import LabelEncoder\n",
    "import warnings\n",
    "warnings.filterwarnings(\"ignore\")\n",
    "from konlpy.tag import Twitter\n",
    "import lightgbm as lgb\n",
    "import requests\n",
    "import pandas as pd \n",
    "import warnings\n",
    "warnings.filterwarnings('ignore')"
   ]
  },
  {
   "cell_type": "code",
   "execution_count": 258,
   "metadata": {},
   "outputs": [],
   "source": [
    "def news_data_setting():\n",
    "    News = pd.read_csv(\"인공지능 관련 뉴스메타데이터(2013.01.01-2017.08.31).CSV\", encoding=\"cp949\")\n",
    "    News = News.filter(items=[\"제목\",\"통합 분류1\",\"본문\",\"특성추출\"])\n",
    "    News = News[News['통합 분류1'].notna()]\n",
    "    News['통합 분류1'] = News['통합 분류1'].replace(\"경제>국제경제\", \"경제>경경\")\n",
    "    \n",
    "    IT = News[News['통합 분류1'].str.contains(\"IT_과학>\")]\n",
    "    eco = News[News['통합 분류1'].str.contains(\"경제\")]\n",
    "    spo = News[News['통합 분류1'].str.contains(\"스포츠>\")]\n",
    "    wol = News[News['통합 분류1'].str.contains(\"국제\")]\n",
    "    con = News[News['통합 분류1'].str.contains(\"지역>\")]\n",
    "    so = News[News['통합 분류1'].str.contains(\"사회\")]\n",
    "    book = News[News['통합 분류1'].str.contains(\"문화\")]\n",
    "    soc = News[News['통합 분류1'].str.contains(\"정치\")]\n",
    "    \n",
    "    IT['class'] = \"과학\"\n",
    "    IT['category'] = 1\n",
    "\n",
    "    eco['class'] = \"경제\"\n",
    "    eco['category'] = 2\n",
    "\n",
    "    spo['class'] = \"스포츠\"\n",
    "    spo['category'] = 3\n",
    "\n",
    "    wol['class'] = \"국제\"\n",
    "    wol['category'] = 4\n",
    "\n",
    "    con['class'] = \"지역\"\n",
    "    con['category'] = 5\n",
    "\n",
    "    so['class'] = \"사회\"\n",
    "    so['category'] = 6\n",
    "\n",
    "    book['class'] = \"문학\"\n",
    "    book['category'] = 7\n",
    "\n",
    "    soc['class'] = \"정치\"\n",
    "    soc['category'] = 8\n",
    "    \n",
    "    total = pd.concat([IT,eco,spo,wol,con,so,book,soc]).reset_index(drop=True)\n",
    "    \n",
    "    return total\n",
    "\n",
    "total = news_data_setting()"
   ]
  },
  {
   "cell_type": "code",
   "execution_count": 257,
   "metadata": {},
   "outputs": [
    {
     "data": {
      "text/html": [
       "<div>\n",
       "<style scoped>\n",
       "    .dataframe tbody tr th:only-of-type {\n",
       "        vertical-align: middle;\n",
       "    }\n",
       "\n",
       "    .dataframe tbody tr th {\n",
       "        vertical-align: top;\n",
       "    }\n",
       "\n",
       "    .dataframe thead th {\n",
       "        text-align: right;\n",
       "    }\n",
       "</style>\n",
       "<table border=\"1\" class=\"dataframe\">\n",
       "  <thead>\n",
       "    <tr style=\"text-align: right;\">\n",
       "      <th></th>\n",
       "      <th>제목</th>\n",
       "      <th>통합 분류1</th>\n",
       "      <th>본문</th>\n",
       "      <th>특성추출</th>\n",
       "      <th>class</th>\n",
       "      <th>category</th>\n",
       "    </tr>\n",
       "  </thead>\n",
       "  <tbody>\n",
       "    <tr>\n",
       "      <th>45370</th>\n",
       "      <td>일자리·4차 산업혁명·교육…위원회는 `文정부 거울`</td>\n",
       "      <td>정치&gt;청와대</td>\n",
       "      <td>◆ 레이더뉴스 / 文정부 위원회 大해부 ◆  문재인 대통령이 국정 5개년 계획을 차...</td>\n",
       "      <td>위원회,청와대,4차,위원장,다음달,일자리,저출산,문재인,북방경제협력위원회,대타협,광...</td>\n",
       "      <td>정치</td>\n",
       "      <td>8</td>\n",
       "    </tr>\n",
       "    <tr>\n",
       "      <th>45371</th>\n",
       "      <td>냉랭한 한일관계, 어떻게 풀어지려나</td>\n",
       "      <td>정치&gt;외교</td>\n",
       "      <td>우리는 지난 15일 광복 72주년을 보내고, 이제 29일 경술국치일을 맞는다. ...</td>\n",
       "      <td>일본,한일관계,한국,한일,고노,양국간,위안부,문재인,선린,백제,관광객,한국사회,주력...</td>\n",
       "      <td>정치</td>\n",
       "      <td>8</td>\n",
       "    </tr>\n",
       "    <tr>\n",
       "      <th>45372</th>\n",
       "      <td>문 대통령 “설계수명 다한 노후원전 연장가동 안한다”</td>\n",
       "      <td>정치&gt;외교</td>\n",
       "      <td>문재인 대통령이 “원전과 화력발전을 줄이고 안전한 미래에너지를 늘려야 한다”고 거듭...</td>\n",
       "      <td>미국,자유무역협정,중국,기업인,발전소,위원장,사드,경제협력,지방자치단체,신재생,7기...</td>\n",
       "      <td>정치</td>\n",
       "      <td>8</td>\n",
       "    </tr>\n",
       "    <tr>\n",
       "      <th>45373</th>\n",
       "      <td>[편집국에서] 사이다만 먹고 살 순 없다</td>\n",
       "      <td>정치&gt;청와대</td>\n",
       "      <td>“공정거래위원회가 (국민들의) 막힌 곳을 뚫어주는 사이다 역할을 하고 있다.” 문재...</td>\n",
       "      <td>한국,세월호,공정위,기간제,국민들,1류,저성장,가처분,박일근,3류,빅데이터,4차,운...</td>\n",
       "      <td>정치</td>\n",
       "      <td>8</td>\n",
       "    </tr>\n",
       "    <tr>\n",
       "      <th>45374</th>\n",
       "      <td>“수직적 권력분산 위해 자치분권 실현 중요”</td>\n",
       "      <td>정치</td>\n",
       "      <td>정순관 대통령소속 지방자치발전위원장은 29일 “자치분권은 시대적 흐름에 부응하는 핵...</td>\n",
       "      <td>위원장,지방분권,정순관,4차,제2국무회의,지방세,권력분산,수직적,지방이양,인공지능,...</td>\n",
       "      <td>정치</td>\n",
       "      <td>8</td>\n",
       "    </tr>\n",
       "  </tbody>\n",
       "</table>\n",
       "</div>"
      ],
      "text/plain": [
       "                                  제목  통합 분류1  \\\n",
       "45370   일자리·4차 산업혁명·교육…위원회는 `文정부 거울`  정치>청와대   \n",
       "45371            냉랭한 한일관계, 어떻게 풀어지려나   정치>외교   \n",
       "45372  문 대통령 “설계수명 다한 노후원전 연장가동 안한다”   정치>외교   \n",
       "45373         [편집국에서] 사이다만 먹고 살 순 없다  정치>청와대   \n",
       "45374       “수직적 권력분산 위해 자치분권 실현 중요”      정치   \n",
       "\n",
       "                                                      본문  \\\n",
       "45370  ◆ 레이더뉴스 / 文정부 위원회 大해부 ◆  문재인 대통령이 국정 5개년 계획을 차...   \n",
       "45371  　 우리는 지난 15일 광복 72주년을 보내고, 이제 29일 경술국치일을 맞는다. ...   \n",
       "45372  문재인 대통령이 “원전과 화력발전을 줄이고 안전한 미래에너지를 늘려야 한다”고 거듭...   \n",
       "45373  “공정거래위원회가 (국민들의) 막힌 곳을 뚫어주는 사이다 역할을 하고 있다.” 문재...   \n",
       "45374  정순관 대통령소속 지방자치발전위원장은 29일 “자치분권은 시대적 흐름에 부응하는 핵...   \n",
       "\n",
       "                                                    특성추출 class  category  \n",
       "45370  위원회,청와대,4차,위원장,다음달,일자리,저출산,문재인,북방경제협력위원회,대타협,광...    정치         8  \n",
       "45371  일본,한일관계,한국,한일,고노,양국간,위안부,문재인,선린,백제,관광객,한국사회,주력...    정치         8  \n",
       "45372  미국,자유무역협정,중국,기업인,발전소,위원장,사드,경제협력,지방자치단체,신재생,7기...    정치         8  \n",
       "45373  한국,세월호,공정위,기간제,국민들,1류,저성장,가처분,박일근,3류,빅데이터,4차,운...    정치         8  \n",
       "45374  위원장,지방분권,정순관,4차,제2국무회의,지방세,권력분산,수직적,지방이양,인공지능,...    정치         8  "
      ]
     },
     "execution_count": 257,
     "metadata": {},
     "output_type": "execute_result"
    }
   ],
   "source": [
    "total.tail()"
   ]
  },
  {
   "cell_type": "markdown",
   "metadata": {},
   "source": [
    "---"
   ]
  },
  {
   "cell_type": "markdown",
   "metadata": {},
   "source": [
    "### news 제목"
   ]
  },
  {
   "cell_type": "code",
   "execution_count": 286,
   "metadata": {},
   "outputs": [],
   "source": [
    "from konlpy.tag import Twitter\n",
    "from konlpy.tag import *\n",
    "hannanum = Hannanum()\n",
    "kkma = Kkma()\n",
    "twitter = Twitter()\n",
    "\n",
    "def tokenize_pos(doc):\n",
    "    return ['/'.join(t) for t in twitter.pos(doc)]"
   ]
  },
  {
   "cell_type": "code",
   "execution_count": 287,
   "metadata": {},
   "outputs": [],
   "source": [
    "clf = Pipeline([\n",
    "    (\"vect\", TfidfVectorizer(tokenizer=tokenize_pos, ngram_range=(1,1))), \n",
    "    (\"clf\", MultinomialNB(alpha=0.01))\n",
    "])"
   ]
  },
  {
   "cell_type": "code",
   "execution_count": 288,
   "metadata": {},
   "outputs": [
    {
     "data": {
      "text/latex": [
       "$$\\left ( 27225, \\quad 18150, \\quad 27225, \\quad 18150\\right )$$"
      ],
      "text/plain": [
       "(27225, 18150, 27225, 18150)"
      ]
     },
     "execution_count": 288,
     "metadata": {},
     "output_type": "execute_result"
    }
   ],
   "source": [
    "X_train_a, X_test_a, y_train_a, y_test_a = train_test_split(total['제목'], total['category'], \\\n",
    "                                                    test_size=0.4, random_state=0)\n",
    "\n",
    "len(X_train_a),len(X_test_a),len(y_train_a),len(y_test_a)"
   ]
  },
  {
   "cell_type": "code",
   "execution_count": 289,
   "metadata": {},
   "outputs": [],
   "source": [
    "def news_name():\n",
    "    model_a = clf.fit(X_train_a, y_train_a)\n",
    "    \n",
    "    y_pred_a = model_a.predict(X_train_a)\n",
    "    \n",
    "    print(\"Train\", \"\\n\")\n",
    "    print(\"Train confusion_matrix\", \"\\n\")\n",
    "    print(confusion_matrix(y_train_a, y_pred_a), \"\\n\\n\")\n",
    "    print(\"Train classification_report\", \"\\n\")\n",
    "    print(classification_report(y_train_a, y_pred_a), \"\\n\\n\")\n",
    "    print(\"Train accuracy_score\", \"\\n\")\n",
    "    print(round(accuracy_score(y_train_a, y_pred_a), 2), \"\\n\\n\")\n",
    "    \n",
    "    print(\"=====================================================\" , \"\\n\\n\")\n",
    "    \n",
    "    y_pred_a_T = model_a.predict(X_test_a)\n",
    "    \n",
    "    print(\"Test\", \"\\n\")\n",
    "    print(\"Test confusion_matrix\", \"\\n\")\n",
    "    print(confusion_matrix(y_test_a, y_pred_a_T), \"\\n\\n\")\n",
    "    print(\"Test classification_report\", \"\\n\")\n",
    "    print(classification_report(y_test_a, y_pred_a_T), \"\\n\\n\")\n",
    "    print(\"Test accuracy_score\", \"\\n\")\n",
    "    print(round(accuracy_score(y_test_a, y_pred_a_T), 2), \"\\n\\n\")\n",
    "    \n",
    "    x=\"Train\",\"Test\"\n",
    "    y=accuracy_score(y_train_a, y_pred_a), accuracy_score(y_test_a, y_pred_a_T)\n",
    "    plt.bar(x,y)\n",
    "    plt.show()"
   ]
  },
  {
   "cell_type": "code",
   "execution_count": 290,
   "metadata": {
    "scrolled": false
   },
   "outputs": [
    {
     "name": "stdout",
     "output_type": "stream",
     "text": [
      "Train \n",
      "\n",
      "Train confusion_matrix \n",
      "\n",
      "[[11991   621    18    53    21    22   190    12]\n",
      " [ 1423  6138     2    16    24     5    31    20]\n",
      " [   25     1   242     9     0     0    15     0]\n",
      " [  171    56     5   713     0     2    19    10]\n",
      " [  119    46     1     1   467     3    11     2]\n",
      " [  191    29     2     2     6   809    32     9]\n",
      " [  386    41    19    12     5    17  2464     2]\n",
      " [   57    21     0     3     3     0     1   609]] \n",
      "\n",
      "\n",
      "Train classification_report \n",
      "\n",
      "             precision    recall  f1-score   support\n",
      "\n",
      "          1       0.83      0.93      0.88     12928\n",
      "          2       0.88      0.80      0.84      7659\n",
      "          3       0.84      0.83      0.83       292\n",
      "          4       0.88      0.73      0.80       976\n",
      "          5       0.89      0.72      0.79       650\n",
      "          6       0.94      0.75      0.83      1080\n",
      "          7       0.89      0.84      0.86      2946\n",
      "          8       0.92      0.88      0.90       694\n",
      "\n",
      "avg / total       0.86      0.86      0.86     27225\n",
      " \n",
      "\n",
      "\n",
      "Train accuracy_score \n",
      "\n",
      "0.86 \n",
      "\n",
      "\n",
      "===================================================== \n",
      "\n",
      "\n",
      "Test \n",
      "\n",
      "Test confusion_matrix \n",
      "\n",
      "[[6936  992   16   54   26   63  358   24]\n",
      " [1869 3183    3   21   31   19   68   34]\n",
      " [  75    8   62   24    3    1   41    1]\n",
      " [ 311  108    9  175    1    9   43   14]\n",
      " [ 199   79    2    2  114   15   24    8]\n",
      " [ 339   64    4    7   16  156   75   11]\n",
      " [ 794  110   19   39    9   44  967    6]\n",
      " [ 137   78    0   19    4    4   32  191]] \n",
      "\n",
      "\n",
      "Test classification_report \n",
      "\n",
      "             precision    recall  f1-score   support\n",
      "\n",
      "          1       0.65      0.82      0.73      8469\n",
      "          2       0.69      0.61      0.65      5228\n",
      "          3       0.54      0.29      0.38       215\n",
      "          4       0.51      0.26      0.35       670\n",
      "          5       0.56      0.26      0.35       443\n",
      "          6       0.50      0.23      0.32       672\n",
      "          7       0.60      0.49      0.54      1988\n",
      "          8       0.66      0.41      0.51       465\n",
      "\n",
      "avg / total       0.64      0.65      0.63     18150\n",
      " \n",
      "\n",
      "\n",
      "Test accuracy_score \n",
      "\n",
      "0.65 \n",
      "\n",
      "\n"
     ]
    },
    {
     "data": {
      "image/png": "[encoded data removed]",
      "text/plain": [
       "<Figure size 432x288 with 1 Axes>"
      ]
     },
     "metadata": {},
     "output_type": "display_data"
    }
   ],
   "source": [
    "news_name()"
   ]
  },
  {
   "cell_type": "markdown",
   "metadata": {},
   "source": [
    "---"
   ]
  },
  {
   "cell_type": "markdown",
   "metadata": {},
   "source": [
    "### news 특성추출"
   ]
  },
  {
   "cell_type": "code",
   "execution_count": 279,
   "metadata": {},
   "outputs": [],
   "source": [
    "from konlpy.tag import Twitter\n",
    "from konlpy.tag import *\n",
    "hannanum = Hannanum()\n",
    "kkma = Kkma()\n",
    "twitter = Twitter()\n",
    "\n",
    "def tokenize_pos(doc):\n",
    "    return ['/'.join(t) for t in twitter.pos(doc)]"
   ]
  },
  {
   "cell_type": "code",
   "execution_count": 280,
   "metadata": {},
   "outputs": [],
   "source": [
    "clf = Pipeline([\n",
    "    (\"vect\", TfidfVectorizer(tokenizer=tokenize_pos, ngram_range=(1,1))), \n",
    "    (\"clf\", MultinomialNB(alpha=0.01))\n",
    "])"
   ]
  },
  {
   "cell_type": "code",
   "execution_count": 281,
   "metadata": {},
   "outputs": [
    {
     "data": {
      "text/latex": [
       "$$\\left ( 27225, \\quad 18150, \\quad 27225, \\quad 18150\\right )$$"
      ],
      "text/plain": [
       "(27225, 18150, 27225, 18150)"
      ]
     },
     "execution_count": 281,
     "metadata": {},
     "output_type": "execute_result"
    }
   ],
   "source": [
    "X_train_a, X_test_a, y_train_a, y_test_a = train_test_split(total['특성추출'], total['category'], \\\n",
    "                                                    test_size=0.4, random_state=0)\n",
    "\n",
    "len(X_train_a),len(X_test_a),len(y_train_a),len(y_test_a)"
   ]
  },
  {
   "cell_type": "code",
   "execution_count": 283,
   "metadata": {},
   "outputs": [],
   "source": [
    "def news_cha():\n",
    "    model_a = clf.fit(X_train_a, y_train_a)\n",
    "    \n",
    "    y_pred_a = model_a.predict(X_train_a)\n",
    "    \n",
    "    print(\"Train\", \"\\n\")\n",
    "    print(\"Train confusion_matrix\", \"\\n\")\n",
    "    print(confusion_matrix(y_train_a, y_pred_a), \"\\n\\n\")\n",
    "    print(\"Train classification_report\", \"\\n\")\n",
    "    print(classification_report(y_train_a, y_pred_a), \"\\n\\n\")\n",
    "    print(\"Train accuracy_score\", \"\\n\")\n",
    "    print(round(accuracy_score(y_train_a, y_pred_a), 2), \"\\n\\n\")\n",
    "    \n",
    "    print(\"=====================================================\" , \"\\n\\n\")\n",
    "    \n",
    "    y_pred_a_T = model_a.predict(X_test_a)\n",
    "    \n",
    "    print(\"Test\", \"\\n\")\n",
    "    print(\"Test confusion_matrix\", \"\\n\")\n",
    "    print(confusion_matrix(y_test_a, y_pred_a_T), \"\\n\\n\")\n",
    "    print(\"Test classification_report\", \"\\n\")\n",
    "    print(classification_report(y_test_a, y_pred_a_T), \"\\n\\n\")\n",
    "    print(\"Test accuracy_score\", \"\\n\")\n",
    "    print(round(accuracy_score(y_test_a, y_pred_a_T), 2), \"\\n\\n\")\n",
    "    \n",
    "    x=\"Train\",\"Test\"\n",
    "    y=accuracy_score(y_train_a, y_pred_a), accuracy_score(y_test_a, y_pred_a_T)\n",
    "    plt.bar(x,y)\n",
    "    plt.show()"
   ]
  },
  {
   "cell_type": "code",
   "execution_count": 284,
   "metadata": {},
   "outputs": [
    {
     "name": "stdout",
     "output_type": "stream",
     "text": [
      "Train \n",
      "\n",
      "Train confusion_matrix \n",
      "\n",
      "[[11925   624    43    65    49    61   149    12]\n",
      " [ 1169  6378     6    11    43    14    20    18]\n",
      " [    7     1   272     8     1     0     3     0]\n",
      " [   97    50    13   799     0     2     7     8]\n",
      " [   45    26     2     3   559     4     8     3]\n",
      " [   93    29     9     7     6   918    15     3]\n",
      " [  239    29    27    18     8    22  2601     2]\n",
      " [   28    15     1     1     3     0     2   644]] \n",
      "\n",
      "\n",
      "Train classification_report \n",
      "\n",
      "             precision    recall  f1-score   support\n",
      "\n",
      "          1       0.88      0.92      0.90     12928\n",
      "          2       0.89      0.83      0.86      7659\n",
      "          3       0.73      0.93      0.82       292\n",
      "          4       0.88      0.82      0.85       976\n",
      "          5       0.84      0.86      0.85       650\n",
      "          6       0.90      0.85      0.87      1080\n",
      "          7       0.93      0.88      0.90      2946\n",
      "          8       0.93      0.93      0.93       694\n",
      "\n",
      "avg / total       0.89      0.89      0.88     27225\n",
      " \n",
      "\n",
      "\n",
      "Train accuracy_score \n",
      "\n",
      "0.89 \n",
      "\n",
      "\n",
      "===================================================== \n",
      "\n",
      "\n",
      "Test \n",
      "\n",
      "Test confusion_matrix \n",
      "\n",
      "[[7156  784   23   70   37   79  295   25]\n",
      " [1582 3459    6   26   48   39   31   37]\n",
      " [  39    3  120   18    0    0   35    0]\n",
      " [ 221   96   21  265    0    7   48   12]\n",
      " [ 133   55    2    1  198   17   33    4]\n",
      " [ 206   47    7    8   21  306   64   13]\n",
      " [ 508   42   40   34   14   58 1282   10]\n",
      " [ 100   41    0    8   11    6   19  280]] \n",
      "\n",
      "\n",
      "Test classification_report \n",
      "\n",
      "             precision    recall  f1-score   support\n",
      "\n",
      "          1       0.72      0.84      0.78      8469\n",
      "          2       0.76      0.66      0.71      5228\n",
      "          3       0.55      0.56      0.55       215\n",
      "          4       0.62      0.40      0.48       670\n",
      "          5       0.60      0.45      0.51       443\n",
      "          6       0.60      0.46      0.52       672\n",
      "          7       0.71      0.64      0.68      1988\n",
      "          8       0.73      0.60      0.66       465\n",
      "\n",
      "avg / total       0.72      0.72      0.71     18150\n",
      " \n",
      "\n",
      "\n",
      "Test accuracy_score \n",
      "\n",
      "0.72 \n",
      "\n",
      "\n"
     ]
    },
    {
     "data": {
      "image/png": "[encoded data removed]",
      "text/plain": [
       "<Figure size 432x288 with 1 Axes>"
      ]
     },
     "metadata": {},
     "output_type": "display_data"
    }
   ],
   "source": [
    "news_cha()"
   ]
  },
  {
   "cell_type": "markdown",
   "metadata": {},
   "source": [
    "---"
   ]
  },
  {
   "cell_type": "markdown",
   "metadata": {},
   "source": [
    "### news 본문"
   ]
  },
  {
   "cell_type": "code",
   "execution_count": 262,
   "metadata": {},
   "outputs": [],
   "source": [
    "from konlpy.tag import Twitter\n",
    "from konlpy.tag import *\n",
    "hannanum = Hannanum()\n",
    "kkma = Kkma()\n",
    "twitter = Twitter()\n",
    "\n",
    "def tokenize_pos(doc):\n",
    "    return ['/'.join(t) for t in twitter.pos(doc)]"
   ]
  },
  {
   "cell_type": "code",
   "execution_count": 263,
   "metadata": {},
   "outputs": [],
   "source": [
    "clf = Pipeline([\n",
    "    (\"vect\", TfidfVectorizer(tokenizer=tokenize_pos, ngram_range=(1,2))), \n",
    "    (\"clf\", MultinomialNB(alpha=0.01))\n",
    "])"
   ]
  },
  {
   "cell_type": "code",
   "execution_count": 264,
   "metadata": {},
   "outputs": [
    {
     "data": {
      "text/latex": [
       "$$\\left ( 27225, \\quad 18150, \\quad 27225, \\quad 18150\\right )$$"
      ],
      "text/plain": [
       "(27225, 18150, 27225, 18150)"
      ]
     },
     "execution_count": 264,
     "metadata": {},
     "output_type": "execute_result"
    }
   ],
   "source": [
    "X_train_F, X_test_F, y_train_F, y_test_F = train_test_split(total['본문'], total['category'], \\\n",
    "                                                    test_size=0.4, random_state=0)\n",
    "\n",
    "len(X_train_F),len(X_test_F),len(y_train_F),len(y_test_F)"
   ]
  },
  {
   "cell_type": "code",
   "execution_count": 265,
   "metadata": {},
   "outputs": [],
   "source": [
    "def news_con():\n",
    "    model_F = clf.fit(X_train_F, y_train_F)\n",
    "    \n",
    "    y_pred_F = model_F.predict(X_train_F)\n",
    "    \n",
    "    print(\"Train\", \"\\n\")\n",
    "    print(\"Train confusion_matrix\", \"\\n\")\n",
    "    print(confusion_matrix(y_train_F, y_pred_F), \"\\n\\n\")\n",
    "    print(\"Train classification_report\", \"\\n\")\n",
    "    print(classification_report(y_train_F, y_pred_F), \"\\n\\n\")\n",
    "    print(\"Train accuracy_score\", \"\\n\")\n",
    "    print(round(accuracy_score(y_train_F, y_pred_F), 2), \"\\n\\n\")\n",
    "    \n",
    "    print(\"=====================================================\" , \"\\n\\n\")\n",
    "    \n",
    "    y_pred_F_T = model_F.predict(X_test_F)\n",
    "    \n",
    "    print(\"Test\", \"\\n\")\n",
    "    print(\"Test confusion_matrix\", \"\\n\")\n",
    "    print(confusion_matrix(y_test_F, y_pred_F_T), \"\\n\\n\")\n",
    "    print(\"Test classification_report\", \"\\n\")\n",
    "    print(classification_report(y_test_F, y_pred_F_T), \"\\n\\n\")\n",
    "    print(\"Test accuracy_score\", \"\\n\")\n",
    "    print(round(accuracy_score(y_test_F, y_pred_F_T), 2), \"\\n\\n\")\n",
    "    \n",
    "    x=\"Train\",\"Test\"\n",
    "    y=accuracy_score(y_train_F, y_pred_F), accuracy_score(y_test_F, y_pred_F_T)\n",
    "    plt.bar(x,y)\n",
    "    plt.show()"
   ]
  },
  {
   "cell_type": "code",
   "execution_count": 266,
   "metadata": {
    "scrolled": false
   },
   "outputs": [
    {
     "name": "stdout",
     "output_type": "stream",
     "text": [
      "Train \n",
      "\n",
      "Train confusion_matrix \n",
      "\n",
      "[[12642   106    11    43    25    19    78     4]\n",
      " [   62  7555     4     5    11     2    13     7]\n",
      " [    1     1   288     2     0     0     0     0]\n",
      " [    5     8     1   957     0     1     1     3]\n",
      " [    4     3     2     2   633     0     5     1]\n",
      " [    3     4     3     1     3  1063     1     2]\n",
      " [   18     3     2     1     2     3  2917     0]\n",
      " [    2     1     0     0     1     0     0   690]] \n",
      "\n",
      "\n",
      "Train classification_report \n",
      "\n",
      "             precision    recall  f1-score   support\n",
      "\n",
      "          1       0.99      0.98      0.99     12928\n",
      "          2       0.98      0.99      0.99      7659\n",
      "          3       0.93      0.99      0.96       292\n",
      "          4       0.95      0.98      0.96       976\n",
      "          5       0.94      0.97      0.96       650\n",
      "          6       0.98      0.98      0.98      1080\n",
      "          7       0.97      0.99      0.98      2946\n",
      "          8       0.98      0.99      0.99       694\n",
      "\n",
      "avg / total       0.98      0.98      0.98     27225\n",
      " \n",
      "\n",
      "\n",
      "Train accuracy_score \n",
      "\n",
      "0.98 \n",
      "\n",
      "\n",
      "===================================================== \n",
      "\n",
      "\n",
      "Test \n",
      "\n",
      "Test confusion_matrix \n",
      "\n",
      "[[7131  738    8   64   30   46  428   24]\n",
      " [1539 3514    4   23   28   26   72   22]\n",
      " [  33    7   80   28    0    1   66    0]\n",
      " [ 221   94    4  277    0    5   57   12]\n",
      " [ 139   71    1    2  168   15   40    7]\n",
      " [ 228   40    1    5   14  271   98   15]\n",
      " [ 472   56   14   32   15   32 1356   11]\n",
      " [  97   55    1    8    6    6   36  256]] \n",
      "\n",
      "\n",
      "Test classification_report \n",
      "\n",
      "             precision    recall  f1-score   support\n",
      "\n",
      "          1       0.72      0.84      0.78      8469\n",
      "          2       0.77      0.67      0.72      5228\n",
      "          3       0.71      0.37      0.49       215\n",
      "          4       0.63      0.41      0.50       670\n",
      "          5       0.64      0.38      0.48       443\n",
      "          6       0.67      0.40      0.50       672\n",
      "          7       0.63      0.68      0.65      1988\n",
      "          8       0.74      0.55      0.63       465\n",
      "\n",
      "avg / total       0.72      0.72      0.71     18150\n",
      " \n",
      "\n",
      "\n",
      "Test accuracy_score \n",
      "\n",
      "0.72 \n",
      "\n",
      "\n"
     ]
    },
    {
     "data": {
      "image/png": "[encoded data removed]",
      "text/plain": [
       "<Figure size 432x288 with 1 Axes>"
      ]
     },
     "metadata": {},
     "output_type": "display_data"
    }
   ],
   "source": [
    "news_con()"
   ]
  },
  {
   "cell_type": "markdown",
   "metadata": {},
   "source": [
    "---"
   ]
  },
  {
   "cell_type": "markdown",
   "metadata": {},
   "source": [
    "### news 본문 + 특성추출 + 제목"
   ]
  },
  {
   "cell_type": "code",
   "execution_count": 301,
   "metadata": {},
   "outputs": [],
   "source": [
    "def data_resetting():\n",
    "    total_ = total.filter(items=['본문',\"class\",'category'])\n",
    "    total_ = total_.rename(columns={\"본문\":\"cont\"})\n",
    "    total__ = total.filter(items=['특성추출',\"class\",'category'])\n",
    "    total__ = total__.rename(columns={\"특성추출\":\"cont\"})\n",
    "    total___ = total.filter(items=['제목',\"class\",'category'])\n",
    "    total___ = total___.rename(columns={\"제목\":\"cont\"})\n",
    "    \n",
    "    t_total = pd.concat([total_,total__,total___]).reset_index(drop=True)\n",
    "    \n",
    "    return t_total\n",
    "\n",
    "t_total = data_resetting()"
   ]
  },
  {
   "cell_type": "code",
   "execution_count": 302,
   "metadata": {},
   "outputs": [
    {
     "data": {
      "text/html": [
       "<div>\n",
       "<style scoped>\n",
       "    .dataframe tbody tr th:only-of-type {\n",
       "        vertical-align: middle;\n",
       "    }\n",
       "\n",
       "    .dataframe tbody tr th {\n",
       "        vertical-align: top;\n",
       "    }\n",
       "\n",
       "    .dataframe thead th {\n",
       "        text-align: right;\n",
       "    }\n",
       "</style>\n",
       "<table border=\"1\" class=\"dataframe\">\n",
       "  <thead>\n",
       "    <tr style=\"text-align: right;\">\n",
       "      <th></th>\n",
       "      <th>cont</th>\n",
       "      <th>class</th>\n",
       "      <th>category</th>\n",
       "    </tr>\n",
       "  </thead>\n",
       "  <tbody>\n",
       "    <tr>\n",
       "      <th>136120</th>\n",
       "      <td>일자리·4차 산업혁명·교육…위원회는 `文정부 거울`</td>\n",
       "      <td>정치</td>\n",
       "      <td>8</td>\n",
       "    </tr>\n",
       "    <tr>\n",
       "      <th>136121</th>\n",
       "      <td>냉랭한 한일관계, 어떻게 풀어지려나</td>\n",
       "      <td>정치</td>\n",
       "      <td>8</td>\n",
       "    </tr>\n",
       "    <tr>\n",
       "      <th>136122</th>\n",
       "      <td>문 대통령 “설계수명 다한 노후원전 연장가동 안한다”</td>\n",
       "      <td>정치</td>\n",
       "      <td>8</td>\n",
       "    </tr>\n",
       "    <tr>\n",
       "      <th>136123</th>\n",
       "      <td>[편집국에서] 사이다만 먹고 살 순 없다</td>\n",
       "      <td>정치</td>\n",
       "      <td>8</td>\n",
       "    </tr>\n",
       "    <tr>\n",
       "      <th>136124</th>\n",
       "      <td>“수직적 권력분산 위해 자치분권 실현 중요”</td>\n",
       "      <td>정치</td>\n",
       "      <td>8</td>\n",
       "    </tr>\n",
       "  </tbody>\n",
       "</table>\n",
       "</div>"
      ],
      "text/plain": [
       "                                 cont class  category\n",
       "136120   일자리·4차 산업혁명·교육…위원회는 `文정부 거울`    정치         8\n",
       "136121            냉랭한 한일관계, 어떻게 풀어지려나    정치         8\n",
       "136122  문 대통령 “설계수명 다한 노후원전 연장가동 안한다”    정치         8\n",
       "136123         [편집국에서] 사이다만 먹고 살 순 없다    정치         8\n",
       "136124       “수직적 권력분산 위해 자치분권 실현 중요”    정치         8"
      ]
     },
     "execution_count": 302,
     "metadata": {},
     "output_type": "execute_result"
    }
   ],
   "source": [
    "t_total.tail()"
   ]
  },
  {
   "cell_type": "code",
   "execution_count": 303,
   "metadata": {},
   "outputs": [],
   "source": [
    "from konlpy.tag import Twitter\n",
    "from konlpy.tag import *\n",
    "hannanum = Hannanum()\n",
    "kkma = Kkma()\n",
    "twitter = Twitter()\n",
    "\n",
    "def tokenize_pos(doc):\n",
    "    return ['/'.join(t) for t in twitter.pos(doc)]"
   ]
  },
  {
   "cell_type": "code",
   "execution_count": 304,
   "metadata": {},
   "outputs": [],
   "source": [
    "clf = Pipeline([\n",
    "    (\"vect\", TfidfVectorizer(tokenizer=tokenize_pos, ngram_range=(1,1))), \n",
    "    (\"clf\", MultinomialNB(alpha=0.01))\n",
    "])"
   ]
  },
  {
   "cell_type": "code",
   "execution_count": 305,
   "metadata": {},
   "outputs": [
    {
     "data": {
      "text/latex": [
       "$$\\left ( 81675, \\quad 54450, \\quad 81675, \\quad 54450\\right )$$"
      ],
      "text/plain": [
       "(81675, 54450, 81675, 54450)"
      ]
     },
     "execution_count": 305,
     "metadata": {},
     "output_type": "execute_result"
    }
   ],
   "source": [
    "X_train_a, X_test_a, y_train_a, y_test_a = train_test_split(t_total['cont'], t_total['category'], \\\n",
    "                                                    test_size=0.4, random_state=0)\n",
    "\n",
    "len(X_train_a),len(X_test_a),len(y_train_a),len(y_test_a)"
   ]
  },
  {
   "cell_type": "code",
   "execution_count": 306,
   "metadata": {},
   "outputs": [],
   "source": [
    "def total():\n",
    "    model_a = clf.fit(X_train_a, y_train_a)\n",
    "    \n",
    "    y_pred_a = model_a.predict(X_train_a)\n",
    "    \n",
    "    print(\"Train\", \"\\n\")\n",
    "    print(\"Train confusion_matrix\", \"\\n\")\n",
    "    print(confusion_matrix(y_train_a, y_pred_a), \"\\n\\n\")\n",
    "    print(\"Train classification_report\", \"\\n\")\n",
    "    print(classification_report(y_train_a, y_pred_a), \"\\n\\n\")\n",
    "    print(\"Train accuracy_score\", \"\\n\")\n",
    "    print(round(accuracy_score(y_train_a, y_pred_a), 2), \"\\n\\n\")\n",
    "    \n",
    "    print(\"=====================================================\" , \"\\n\\n\")\n",
    "    \n",
    "    y_pred_a_T = model_a.predict(X_test_a)\n",
    "    \n",
    "    print(\"Test\", \"\\n\")\n",
    "    print(\"Test confusion_matrix\", \"\\n\")\n",
    "    print(confusion_matrix(y_test_a, y_pred_a_T), \"\\n\\n\")\n",
    "    print(\"Test classification_report\", \"\\n\")\n",
    "    print(classification_report(y_test_a, y_pred_a_T), \"\\n\\n\")\n",
    "    print(\"Test accuracy_score\", \"\\n\")\n",
    "    print(round(accuracy_score(y_test_a, y_pred_a_T), 2), \"\\n\\n\")\n",
    "    \n",
    "    x=\"Train\",\"Test\"\n",
    "    y=accuracy_score(y_train_a, y_pred_a), accuracy_score(y_test_a, y_pred_a_T)\n",
    "    plt.bar(x,y)\n",
    "    plt.show()"
   ]
  },
  {
   "cell_type": "code",
   "execution_count": null,
   "metadata": {},
   "outputs": [],
   "source": [
    "total()"
   ]
  },
  {
   "cell_type": "code",
   "execution_count": null,
   "metadata": {},
   "outputs": [],
   "source": []
  }
 ],
 "metadata": {
  "kernelspec": {
   "display_name": "Python 3",
   "language": "python",
   "name": "python3"
  },
  "language_info": {
   "codemirror_mode": {
    "name": "ipython",
    "version": 3
   },
   "file_extension": ".py",
   "mimetype": "text/x-python",
   "name": "python",
   "nbconvert_exporter": "python",
   "pygments_lexer": "ipython3",
   "version": "3.6.4"
  }
 },
 "nbformat": 4,
 "nbformat_minor": 2
}
